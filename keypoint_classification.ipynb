{
 "cells": [
  {
   "cell_type": "code",
   "execution_count": 1,
   "metadata": {
    "id": "igMyGnjE9hEp"
   },
   "outputs": [],
   "source": [
    "import csv\n",
    "\n",
    "import numpy as np\n",
    "import tensorflow as tf\n",
    "from sklearn.model_selection import train_test_split\n",
    "\n",
    "RANDOM_SEED = 42"
   ]
  },
  {
   "cell_type": "markdown",
   "metadata": {
    "id": "t2HDvhIu9hEr"
   },
   "source": [
    "# Specify each path"
   ]
  },
  {
   "cell_type": "code",
   "execution_count": 2,
   "metadata": {
    "id": "9NvZP2Zn9hEy"
   },
   "outputs": [],
   "source": [
    "dataset = 'model/keypoint_classifier/keypoint.csv'\n",
    "model_save_path = 'model/keypoint_classifier/keypoint_classifier.hdf5'\n",
    "tflite_save_path = 'model/keypoint_classifier/keypoint_classifier.tflite'"
   ]
  },
  {
   "cell_type": "markdown",
   "metadata": {
    "id": "s5oMH7x19hEz"
   },
   "source": [
    "# Set number of classes"
   ]
  },
  {
   "cell_type": "code",
   "execution_count": 3,
   "metadata": {
    "id": "du4kodXL9hEz"
   },
   "outputs": [],
   "source": [
    "NUM_CLASSES = 15"
   ]
  },
  {
   "cell_type": "markdown",
   "metadata": {
    "id": "XjnL0uso9hEz"
   },
   "source": [
    "# Dataset reading"
   ]
  },
  {
   "cell_type": "code",
   "execution_count": 4,
   "metadata": {
    "id": "QT5ZqtEz9hE0"
   },
   "outputs": [],
   "source": [
    "X_dataset = np.loadtxt(dataset, delimiter=',', dtype='float32', usecols=list(range(1, (21 * 2) + 1)))"
   ]
  },
  {
   "cell_type": "code",
   "execution_count": 5,
   "metadata": {
    "id": "QmoKFsp49hE0"
   },
   "outputs": [],
   "source": [
    "y_dataset = np.loadtxt(dataset, delimiter=',', dtype='int32', usecols=(0))"
   ]
  },
  {
   "cell_type": "code",
   "execution_count": 6,
   "metadata": {
    "id": "xQU7JTZ_9hE0"
   },
   "outputs": [],
   "source": [
    "X_train, X_test, y_train, y_test = train_test_split(X_dataset, y_dataset, train_size=0.75, random_state=RANDOM_SEED)"
   ]
  },
  {
   "cell_type": "markdown",
   "metadata": {
    "id": "mxK_lETT9hE0"
   },
   "source": [
    "# Model building"
   ]
  },
  {
   "cell_type": "code",
   "execution_count": 7,
   "metadata": {
    "id": "vHBmUf1t9hE1"
   },
   "outputs": [
    {
     "name": "stdout",
     "output_type": "stream",
     "text": [
      "Metal device set to: Apple M2\n"
     ]
    }
   ],
   "source": [
    "model = tf.keras.models.Sequential([\n",
    "    tf.keras.layers.Input((21 * 2, )),\n",
    "    tf.keras.layers.Dropout(0.2),\n",
    "    tf.keras.layers.Dense(20, activation='relu'),\n",
    "    tf.keras.layers.Dropout(0.4),\n",
    "    tf.keras.layers.Dense(10, activation='relu'),\n",
    "    tf.keras.layers.Dense(NUM_CLASSES, activation='softmax')\n",
    "])"
   ]
  },
  {
   "cell_type": "code",
   "execution_count": 8,
   "metadata": {
    "colab": {
     "base_uri": "https://localhost:8080/"
    },
    "id": "ypqky9tc9hE1",
    "outputId": "5db082bb-30e3-4110-bf63-a1ee777ecd46"
   },
   "outputs": [
    {
     "name": "stdout",
     "output_type": "stream",
     "text": [
      "Model: \"sequential\"\n",
      "_________________________________________________________________\n",
      " Layer (type)                Output Shape              Param #   \n",
      "=================================================================\n",
      " dropout (Dropout)           (None, 42)                0         \n",
      "                                                                 \n",
      " dense (Dense)               (None, 20)                860       \n",
      "                                                                 \n",
      " dropout_1 (Dropout)         (None, 20)                0         \n",
      "                                                                 \n",
      " dense_1 (Dense)             (None, 10)                210       \n",
      "                                                                 \n",
      " dense_2 (Dense)             (None, 15)                165       \n",
      "                                                                 \n",
      "=================================================================\n",
      "Total params: 1,235\n",
      "Trainable params: 1,235\n",
      "Non-trainable params: 0\n",
      "_________________________________________________________________\n"
     ]
    }
   ],
   "source": [
    "model.summary()  # tf.keras.utils.plot_model(model, show_shapes=True)"
   ]
  },
  {
   "cell_type": "code",
   "execution_count": 9,
   "metadata": {
    "id": "MbMjOflQ9hE1"
   },
   "outputs": [],
   "source": [
    "# Model checkpoint callback\n",
    "cp_callback = tf.keras.callbacks.ModelCheckpoint(\n",
    "    model_save_path, verbose=1, save_weights_only=False)\n",
    "# Callback for early stopping\n",
    "es_callback = tf.keras.callbacks.EarlyStopping(patience=40, verbose=1)"
   ]
  },
  {
   "cell_type": "code",
   "execution_count": 10,
   "metadata": {
    "id": "c3Dac0M_9hE2"
   },
   "outputs": [],
   "source": [
    "# Model compilation\n",
    "model.compile(\n",
    "    optimizer='adam',\n",
    "    loss='sparse_categorical_crossentropy',\n",
    "    metrics=['accuracy']\n",
    ")"
   ]
  },
  {
   "cell_type": "markdown",
   "metadata": {
    "id": "7XI0j1Iu9hE2"
   },
   "source": [
    "# Model training"
   ]
  },
  {
   "cell_type": "code",
   "execution_count": 11,
   "metadata": {
    "colab": {
     "base_uri": "https://localhost:8080/"
    },
    "id": "WirBl-JE9hE3",
    "outputId": "71b30ca2-8294-4d9d-8aa2-800d90d399de",
    "scrolled": true
   },
   "outputs": [
    {
     "name": "stdout",
     "output_type": "stream",
     "text": [
      "Epoch 1/1000\n"
     ]
    },
    {
     "name": "stderr",
     "output_type": "stream",
     "text": [
      "2023-05-12 12:21:08.011409: W tensorflow/tsl/platform/profile_utils/cpu_utils.cc:128] Failed to get CPU frequency: 0 Hz\n"
     ]
    },
    {
     "name": "stdout",
     "output_type": "stream",
     "text": [
      "55/55 [==============================] - ETA: 0s - loss: 2.7548 - accuracy: 0.0967\n",
      "Epoch 1: saving model to model/keypoint_classifier/keypoint_classifier.hdf5\n",
      "55/55 [==============================] - 1s 9ms/step - loss: 2.7548 - accuracy: 0.0967 - val_loss: 2.5956 - val_accuracy: 0.1569\n",
      "Epoch 2/1000\n",
      "55/55 [==============================] - ETA: 0s - loss: 2.5620 - accuracy: 0.1647\n",
      "Epoch 2: saving model to model/keypoint_classifier/keypoint_classifier.hdf5\n",
      "55/55 [==============================] - 0s 6ms/step - loss: 2.5620 - accuracy: 0.1647 - val_loss: 2.4165 - val_accuracy: 0.2135\n",
      "Epoch 3/1000\n",
      "53/55 [===========================>..] - ETA: 0s - loss: 2.3851 - accuracy: 0.1931\n",
      "Epoch 3: saving model to model/keypoint_classifier/keypoint_classifier.hdf5\n",
      "55/55 [==============================] - 0s 7ms/step - loss: 2.3840 - accuracy: 0.1935 - val_loss: 2.2030 - val_accuracy: 0.2943\n",
      "Epoch 4/1000\n",
      "55/55 [==============================] - ETA: 0s - loss: 2.2164 - accuracy: 0.2239\n",
      "Epoch 4: saving model to model/keypoint_classifier/keypoint_classifier.hdf5\n",
      "55/55 [==============================] - 0s 6ms/step - loss: 2.2164 - accuracy: 0.2239 - val_loss: 2.0347 - val_accuracy: 0.3647\n",
      "Epoch 5/1000\n",
      "52/55 [===========================>..] - ETA: 0s - loss: 2.0915 - accuracy: 0.2574\n",
      "Epoch 5: saving model to model/keypoint_classifier/keypoint_classifier.hdf5\n",
      "55/55 [==============================] - 0s 7ms/step - loss: 2.0883 - accuracy: 0.2582 - val_loss: 1.9039 - val_accuracy: 0.4062\n",
      "Epoch 6/1000\n",
      "45/55 [=======================>......] - ETA: 0s - loss: 2.0036 - accuracy: 0.2863\n",
      "Epoch 6: saving model to model/keypoint_classifier/keypoint_classifier.hdf5\n",
      "55/55 [==============================] - 0s 6ms/step - loss: 2.0031 - accuracy: 0.2866 - val_loss: 1.8009 - val_accuracy: 0.4257\n",
      "Epoch 7/1000\n",
      "49/55 [=========================>....] - ETA: 0s - loss: 1.9313 - accuracy: 0.3037\n",
      "Epoch 7: saving model to model/keypoint_classifier/keypoint_classifier.hdf5\n",
      "55/55 [==============================] - 0s 6ms/step - loss: 1.9272 - accuracy: 0.3056 - val_loss: 1.7051 - val_accuracy: 0.4464\n",
      "Epoch 8/1000\n",
      "49/55 [=========================>....] - ETA: 0s - loss: 1.8786 - accuracy: 0.3214\n",
      "Epoch 8: saving model to model/keypoint_classifier/keypoint_classifier.hdf5\n",
      "55/55 [==============================] - 0s 6ms/step - loss: 1.8783 - accuracy: 0.3206 - val_loss: 1.6255 - val_accuracy: 0.4814\n",
      "Epoch 9/1000\n",
      "47/55 [========================>.....] - ETA: 0s - loss: 1.8153 - accuracy: 0.3517\n",
      "Epoch 9: saving model to model/keypoint_classifier/keypoint_classifier.hdf5\n",
      "55/55 [==============================] - 0s 6ms/step - loss: 1.8132 - accuracy: 0.3522 - val_loss: 1.5426 - val_accuracy: 0.5069\n",
      "Epoch 10/1000\n",
      "48/55 [=========================>....] - ETA: 0s - loss: 1.7589 - accuracy: 0.3595\n",
      "Epoch 10: saving model to model/keypoint_classifier/keypoint_classifier.hdf5\n",
      "55/55 [==============================] - 0s 6ms/step - loss: 1.7585 - accuracy: 0.3586 - val_loss: 1.4857 - val_accuracy: 0.5510\n",
      "Epoch 11/1000\n",
      "48/55 [=========================>....] - ETA: 0s - loss: 1.7160 - accuracy: 0.3693\n",
      "Epoch 11: saving model to model/keypoint_classifier/keypoint_classifier.hdf5\n",
      "55/55 [==============================] - 0s 6ms/step - loss: 1.7139 - accuracy: 0.3684 - val_loss: 1.4359 - val_accuracy: 0.5583\n",
      "Epoch 12/1000\n",
      "47/55 [========================>.....] - ETA: 0s - loss: 1.6746 - accuracy: 0.3795\n",
      "Epoch 12: saving model to model/keypoint_classifier/keypoint_classifier.hdf5\n",
      "55/55 [==============================] - 0s 6ms/step - loss: 1.6762 - accuracy: 0.3749 - val_loss: 1.3871 - val_accuracy: 0.5756\n",
      "Epoch 13/1000\n",
      "49/55 [=========================>....] - ETA: 0s - loss: 1.6638 - accuracy: 0.3825\n",
      "Epoch 13: saving model to model/keypoint_classifier/keypoint_classifier.hdf5\n",
      "55/55 [==============================] - 0s 6ms/step - loss: 1.6609 - accuracy: 0.3854 - val_loss: 1.3568 - val_accuracy: 0.5821\n",
      "Epoch 14/1000\n",
      "49/55 [=========================>....] - ETA: 0s - loss: 1.6243 - accuracy: 0.3967\n",
      "Epoch 14: saving model to model/keypoint_classifier/keypoint_classifier.hdf5\n",
      "55/55 [==============================] - 0s 6ms/step - loss: 1.6197 - accuracy: 0.3984 - val_loss: 1.3161 - val_accuracy: 0.5908\n",
      "Epoch 15/1000\n",
      "47/55 [========================>.....] - ETA: 0s - loss: 1.6076 - accuracy: 0.3994\n",
      "Epoch 15: saving model to model/keypoint_classifier/keypoint_classifier.hdf5\n",
      "55/55 [==============================] - 0s 6ms/step - loss: 1.6026 - accuracy: 0.4024 - val_loss: 1.2908 - val_accuracy: 0.5972\n",
      "Epoch 16/1000\n",
      "48/55 [=========================>....] - ETA: 0s - loss: 1.5872 - accuracy: 0.4137\n",
      "Epoch 16: saving model to model/keypoint_classifier/keypoint_classifier.hdf5\n",
      "55/55 [==============================] - 0s 6ms/step - loss: 1.5824 - accuracy: 0.4147 - val_loss: 1.2585 - val_accuracy: 0.6154\n",
      "Epoch 17/1000\n",
      "47/55 [========================>.....] - ETA: 0s - loss: 1.5459 - accuracy: 0.4313\n",
      "Epoch 17: saving model to model/keypoint_classifier/keypoint_classifier.hdf5\n",
      "55/55 [==============================] - 0s 6ms/step - loss: 1.5422 - accuracy: 0.4294 - val_loss: 1.2255 - val_accuracy: 0.6465\n",
      "Epoch 18/1000\n",
      "55/55 [==============================] - ETA: 0s - loss: 1.5350 - accuracy: 0.4353\n",
      "Epoch 18: saving model to model/keypoint_classifier/keypoint_classifier.hdf5\n",
      "55/55 [==============================] - 0s 7ms/step - loss: 1.5350 - accuracy: 0.4353 - val_loss: 1.2067 - val_accuracy: 0.6603\n",
      "Epoch 19/1000\n",
      "48/55 [=========================>....] - ETA: 0s - loss: 1.5191 - accuracy: 0.4404\n",
      "Epoch 19: saving model to model/keypoint_classifier/keypoint_classifier.hdf5\n",
      "55/55 [==============================] - 0s 6ms/step - loss: 1.5166 - accuracy: 0.4419 - val_loss: 1.1729 - val_accuracy: 0.6655\n",
      "Epoch 20/1000\n",
      "48/55 [=========================>....] - ETA: 0s - loss: 1.4823 - accuracy: 0.4661\n",
      "Epoch 20: saving model to model/keypoint_classifier/keypoint_classifier.hdf5\n",
      "55/55 [==============================] - 0s 6ms/step - loss: 1.4757 - accuracy: 0.4686 - val_loss: 1.1366 - val_accuracy: 0.6694\n",
      "Epoch 21/1000\n",
      "48/55 [=========================>....] - ETA: 0s - loss: 1.4577 - accuracy: 0.4670\n",
      "Epoch 21: saving model to model/keypoint_classifier/keypoint_classifier.hdf5\n",
      "55/55 [==============================] - 0s 6ms/step - loss: 1.4543 - accuracy: 0.4695 - val_loss: 1.1174 - val_accuracy: 0.6932\n",
      "Epoch 22/1000\n",
      "49/55 [=========================>....] - ETA: 0s - loss: 1.4513 - accuracy: 0.4673\n",
      "Epoch 22: saving model to model/keypoint_classifier/keypoint_classifier.hdf5\n",
      "55/55 [==============================] - 0s 6ms/step - loss: 1.4470 - accuracy: 0.4679 - val_loss: 1.0947 - val_accuracy: 0.6876\n",
      "Epoch 23/1000\n",
      "47/55 [========================>.....] - ETA: 0s - loss: 1.4479 - accuracy: 0.4684\n",
      "Epoch 23: saving model to model/keypoint_classifier/keypoint_classifier.hdf5\n",
      "55/55 [==============================] - 0s 6ms/step - loss: 1.4423 - accuracy: 0.4715 - val_loss: 1.0808 - val_accuracy: 0.7018\n",
      "Epoch 24/1000\n",
      "45/55 [=======================>......] - ETA: 0s - loss: 1.4392 - accuracy: 0.4840\n",
      "Epoch 24: saving model to model/keypoint_classifier/keypoint_classifier.hdf5\n",
      "55/55 [==============================] - 0s 6ms/step - loss: 1.4270 - accuracy: 0.4880 - val_loss: 1.0691 - val_accuracy: 0.7087\n",
      "Epoch 25/1000\n",
      "45/55 [=======================>......] - ETA: 0s - loss: 1.4241 - accuracy: 0.4799\n",
      "Epoch 25: saving model to model/keypoint_classifier/keypoint_classifier.hdf5\n",
      "55/55 [==============================] - 0s 6ms/step - loss: 1.4168 - accuracy: 0.4808 - val_loss: 1.0462 - val_accuracy: 0.7169\n",
      "Epoch 26/1000\n",
      "45/55 [=======================>......] - ETA: 0s - loss: 1.3988 - accuracy: 0.4870\n",
      "Epoch 26: saving model to model/keypoint_classifier/keypoint_classifier.hdf5\n",
      "55/55 [==============================] - 0s 6ms/step - loss: 1.3868 - accuracy: 0.4890 - val_loss: 1.0298 - val_accuracy: 0.7131\n",
      "Epoch 27/1000\n",
      "45/55 [=======================>......] - ETA: 0s - loss: 1.3960 - accuracy: 0.4884\n",
      "Epoch 27: saving model to model/keypoint_classifier/keypoint_classifier.hdf5\n",
      "55/55 [==============================] - 0s 6ms/step - loss: 1.3933 - accuracy: 0.4919 - val_loss: 1.0080 - val_accuracy: 0.7381\n",
      "Epoch 28/1000\n"
     ]
    },
    {
     "name": "stdout",
     "output_type": "stream",
     "text": [
      "45/55 [=======================>......] - ETA: 0s - loss: 1.3711 - accuracy: 0.4969\n",
      "Epoch 28: saving model to model/keypoint_classifier/keypoint_classifier.hdf5\n",
      "55/55 [==============================] - 0s 6ms/step - loss: 1.3664 - accuracy: 0.5006 - val_loss: 0.9885 - val_accuracy: 0.7498\n",
      "Epoch 29/1000\n",
      "46/55 [========================>.....] - ETA: 0s - loss: 1.3611 - accuracy: 0.5085\n",
      "Epoch 29: saving model to model/keypoint_classifier/keypoint_classifier.hdf5\n",
      "55/55 [==============================] - 0s 6ms/step - loss: 1.3639 - accuracy: 0.5078 - val_loss: 0.9742 - val_accuracy: 0.7541\n",
      "Epoch 30/1000\n",
      "52/55 [===========================>..] - ETA: 0s - loss: 1.3436 - accuracy: 0.5111\n",
      "Epoch 30: saving model to model/keypoint_classifier/keypoint_classifier.hdf5\n",
      "55/55 [==============================] - 0s 7ms/step - loss: 1.3444 - accuracy: 0.5104 - val_loss: 0.9616 - val_accuracy: 0.7662\n",
      "Epoch 31/1000\n",
      "52/55 [===========================>..] - ETA: 0s - loss: 1.3344 - accuracy: 0.5162\n",
      "Epoch 31: saving model to model/keypoint_classifier/keypoint_classifier.hdf5\n",
      "55/55 [==============================] - 0s 6ms/step - loss: 1.3325 - accuracy: 0.5161 - val_loss: 0.9536 - val_accuracy: 0.7684\n",
      "Epoch 32/1000\n",
      "48/55 [=========================>....] - ETA: 0s - loss: 1.3163 - accuracy: 0.5256\n",
      "Epoch 32: saving model to model/keypoint_classifier/keypoint_classifier.hdf5\n",
      "55/55 [==============================] - 0s 6ms/step - loss: 1.3178 - accuracy: 0.5231 - val_loss: 0.9318 - val_accuracy: 0.7593\n",
      "Epoch 33/1000\n",
      "45/55 [=======================>......] - ETA: 0s - loss: 1.3195 - accuracy: 0.5205\n",
      "Epoch 33: saving model to model/keypoint_classifier/keypoint_classifier.hdf5\n",
      "55/55 [==============================] - 0s 6ms/step - loss: 1.3241 - accuracy: 0.5177 - val_loss: 0.9278 - val_accuracy: 0.7697\n",
      "Epoch 34/1000\n",
      "50/55 [==========================>...] - ETA: 0s - loss: 1.3138 - accuracy: 0.5230\n",
      "Epoch 34: saving model to model/keypoint_classifier/keypoint_classifier.hdf5\n",
      "55/55 [==============================] - 0s 7ms/step - loss: 1.3196 - accuracy: 0.5225 - val_loss: 0.9114 - val_accuracy: 0.7684\n",
      "Epoch 35/1000\n",
      "53/55 [===========================>..] - ETA: 0s - loss: 1.2939 - accuracy: 0.5262\n",
      "Epoch 35: saving model to model/keypoint_classifier/keypoint_classifier.hdf5\n",
      "55/55 [==============================] - 0s 6ms/step - loss: 1.2949 - accuracy: 0.5258 - val_loss: 0.9041 - val_accuracy: 0.7774\n",
      "Epoch 36/1000\n",
      "51/55 [==========================>...] - ETA: 0s - loss: 1.2795 - accuracy: 0.5283\n",
      "Epoch 36: saving model to model/keypoint_classifier/keypoint_classifier.hdf5\n",
      "55/55 [==============================] - 0s 7ms/step - loss: 1.2809 - accuracy: 0.5275 - val_loss: 0.8977 - val_accuracy: 0.7779\n",
      "Epoch 37/1000\n",
      "55/55 [==============================] - ETA: 0s - loss: 1.2802 - accuracy: 0.5310\n",
      "Epoch 37: saving model to model/keypoint_classifier/keypoint_classifier.hdf5\n",
      "55/55 [==============================] - 0s 6ms/step - loss: 1.2802 - accuracy: 0.5310 - val_loss: 0.8835 - val_accuracy: 0.7831\n",
      "Epoch 38/1000\n",
      "45/55 [=======================>......] - ETA: 0s - loss: 1.2604 - accuracy: 0.5417\n",
      "Epoch 38: saving model to model/keypoint_classifier/keypoint_classifier.hdf5\n",
      "55/55 [==============================] - 0s 6ms/step - loss: 1.2697 - accuracy: 0.5367 - val_loss: 0.8654 - val_accuracy: 0.7835\n",
      "Epoch 39/1000\n",
      "55/55 [==============================] - ETA: 0s - loss: 1.2430 - accuracy: 0.5478\n",
      "Epoch 39: saving model to model/keypoint_classifier/keypoint_classifier.hdf5\n",
      "55/55 [==============================] - 0s 6ms/step - loss: 1.2430 - accuracy: 0.5478 - val_loss: 0.8585 - val_accuracy: 0.7792\n",
      "Epoch 40/1000\n",
      "55/55 [==============================] - ETA: 0s - loss: 1.2566 - accuracy: 0.5357\n",
      "Epoch 40: saving model to model/keypoint_classifier/keypoint_classifier.hdf5\n",
      "55/55 [==============================] - 0s 6ms/step - loss: 1.2566 - accuracy: 0.5357 - val_loss: 0.8551 - val_accuracy: 0.7895\n",
      "Epoch 41/1000\n",
      "45/55 [=======================>......] - ETA: 0s - loss: 1.2480 - accuracy: 0.5519\n",
      "Epoch 41: saving model to model/keypoint_classifier/keypoint_classifier.hdf5\n",
      "55/55 [==============================] - 0s 6ms/step - loss: 1.2509 - accuracy: 0.5500 - val_loss: 0.8445 - val_accuracy: 0.7818\n",
      "Epoch 42/1000\n",
      "54/55 [============================>.] - ETA: 0s - loss: 1.2450 - accuracy: 0.5472\n",
      "Epoch 42: saving model to model/keypoint_classifier/keypoint_classifier.hdf5\n",
      "55/55 [==============================] - 0s 6ms/step - loss: 1.2443 - accuracy: 0.5476 - val_loss: 0.8350 - val_accuracy: 0.7952\n",
      "Epoch 43/1000\n",
      "54/55 [============================>.] - ETA: 0s - loss: 1.2436 - accuracy: 0.5528\n",
      "Epoch 43: saving model to model/keypoint_classifier/keypoint_classifier.hdf5\n",
      "55/55 [==============================] - 0s 6ms/step - loss: 1.2450 - accuracy: 0.5530 - val_loss: 0.8259 - val_accuracy: 0.7930\n",
      "Epoch 44/1000\n",
      "55/55 [==============================] - ETA: 0s - loss: 1.2215 - accuracy: 0.5503\n",
      "Epoch 44: saving model to model/keypoint_classifier/keypoint_classifier.hdf5\n",
      "55/55 [==============================] - 0s 6ms/step - loss: 1.2215 - accuracy: 0.5503 - val_loss: 0.8156 - val_accuracy: 0.7934\n",
      "Epoch 45/1000\n",
      "55/55 [==============================] - ETA: 0s - loss: 1.2141 - accuracy: 0.5604\n",
      "Epoch 45: saving model to model/keypoint_classifier/keypoint_classifier.hdf5\n",
      "55/55 [==============================] - 0s 6ms/step - loss: 1.2141 - accuracy: 0.5604 - val_loss: 0.8153 - val_accuracy: 0.8051\n",
      "Epoch 46/1000\n",
      "55/55 [==============================] - ETA: 0s - loss: 1.1992 - accuracy: 0.5640\n",
      "Epoch 46: saving model to model/keypoint_classifier/keypoint_classifier.hdf5\n",
      "55/55 [==============================] - 0s 6ms/step - loss: 1.1992 - accuracy: 0.5640 - val_loss: 0.7962 - val_accuracy: 0.7999\n",
      "Epoch 47/1000\n",
      "45/55 [=======================>......] - ETA: 0s - loss: 1.1945 - accuracy: 0.5613\n",
      "Epoch 47: saving model to model/keypoint_classifier/keypoint_classifier.hdf5\n",
      "55/55 [==============================] - 0s 6ms/step - loss: 1.1970 - accuracy: 0.5581 - val_loss: 0.7869 - val_accuracy: 0.8047\n",
      "Epoch 48/1000\n",
      "54/55 [============================>.] - ETA: 0s - loss: 1.1841 - accuracy: 0.5684\n",
      "Epoch 48: saving model to model/keypoint_classifier/keypoint_classifier.hdf5\n",
      "55/55 [==============================] - 0s 6ms/step - loss: 1.1840 - accuracy: 0.5683 - val_loss: 0.7814 - val_accuracy: 0.7956\n",
      "Epoch 49/1000\n",
      "45/55 [=======================>......] - ETA: 0s - loss: 1.1949 - accuracy: 0.5609\n",
      "Epoch 49: saving model to model/keypoint_classifier/keypoint_classifier.hdf5\n",
      "55/55 [==============================] - 0s 6ms/step - loss: 1.1871 - accuracy: 0.5647 - val_loss: 0.7790 - val_accuracy: 0.8051\n",
      "Epoch 50/1000\n",
      "45/55 [=======================>......] - ETA: 0s - loss: 1.1605 - accuracy: 0.5747\n",
      "Epoch 50: saving model to model/keypoint_classifier/keypoint_classifier.hdf5\n",
      "55/55 [==============================] - 0s 6ms/step - loss: 1.1659 - accuracy: 0.5689 - val_loss: 0.7639 - val_accuracy: 0.8116\n",
      "Epoch 51/1000\n",
      "55/55 [==============================] - ETA: 0s - loss: 1.2122 - accuracy: 0.5683\n",
      "Epoch 51: saving model to model/keypoint_classifier/keypoint_classifier.hdf5\n",
      "55/55 [==============================] - 0s 7ms/step - loss: 1.2122 - accuracy: 0.5683 - val_loss: 0.7683 - val_accuracy: 0.8194\n",
      "Epoch 52/1000\n",
      "55/55 [==============================] - ETA: 0s - loss: 1.1705 - accuracy: 0.5818\n",
      "Epoch 52: saving model to model/keypoint_classifier/keypoint_classifier.hdf5\n",
      "55/55 [==============================] - 0s 6ms/step - loss: 1.1705 - accuracy: 0.5818 - val_loss: 0.7622 - val_accuracy: 0.8012\n",
      "Epoch 53/1000\n",
      "55/55 [==============================] - ETA: 0s - loss: 1.1680 - accuracy: 0.5706\n",
      "Epoch 53: saving model to model/keypoint_classifier/keypoint_classifier.hdf5\n",
      "55/55 [==============================] - 0s 6ms/step - loss: 1.1680 - accuracy: 0.5706 - val_loss: 0.7603 - val_accuracy: 0.8189\n",
      "Epoch 54/1000\n",
      "55/55 [==============================] - ETA: 0s - loss: 1.1619 - accuracy: 0.5771\n",
      "Epoch 54: saving model to model/keypoint_classifier/keypoint_classifier.hdf5\n",
      "55/55 [==============================] - 0s 6ms/step - loss: 1.1619 - accuracy: 0.5771 - val_loss: 0.7452 - val_accuracy: 0.8254\n",
      "Epoch 55/1000\n"
     ]
    },
    {
     "name": "stdout",
     "output_type": "stream",
     "text": [
      "45/55 [=======================>......] - ETA: 0s - loss: 1.1667 - accuracy: 0.5785\n",
      "Epoch 55: saving model to model/keypoint_classifier/keypoint_classifier.hdf5\n",
      "55/55 [==============================] - 0s 6ms/step - loss: 1.1531 - accuracy: 0.5836 - val_loss: 0.7300 - val_accuracy: 0.8224\n",
      "Epoch 56/1000\n",
      "44/55 [=======================>......] - ETA: 0s - loss: 1.1699 - accuracy: 0.5792\n",
      "Epoch 56: saving model to model/keypoint_classifier/keypoint_classifier.hdf5\n",
      "55/55 [==============================] - 0s 6ms/step - loss: 1.1640 - accuracy: 0.5803 - val_loss: 0.7395 - val_accuracy: 0.8181\n",
      "Epoch 57/1000\n",
      "45/55 [=======================>......] - ETA: 0s - loss: 1.1653 - accuracy: 0.5743\n",
      "Epoch 57: saving model to model/keypoint_classifier/keypoint_classifier.hdf5\n",
      "55/55 [==============================] - 0s 6ms/step - loss: 1.1668 - accuracy: 0.5736 - val_loss: 0.7299 - val_accuracy: 0.8284\n",
      "Epoch 58/1000\n",
      "46/55 [========================>.....] - ETA: 0s - loss: 1.1412 - accuracy: 0.5909\n",
      "Epoch 58: saving model to model/keypoint_classifier/keypoint_classifier.hdf5\n",
      "55/55 [==============================] - 0s 6ms/step - loss: 1.1413 - accuracy: 0.5908 - val_loss: 0.7317 - val_accuracy: 0.8258\n",
      "Epoch 59/1000\n",
      "48/55 [=========================>....] - ETA: 0s - loss: 1.1322 - accuracy: 0.5859\n",
      "Epoch 59: saving model to model/keypoint_classifier/keypoint_classifier.hdf5\n",
      "55/55 [==============================] - 0s 6ms/step - loss: 1.1326 - accuracy: 0.5843 - val_loss: 0.7244 - val_accuracy: 0.8263\n",
      "Epoch 60/1000\n",
      "55/55 [==============================] - ETA: 0s - loss: 1.1195 - accuracy: 0.5988\n",
      "Epoch 60: saving model to model/keypoint_classifier/keypoint_classifier.hdf5\n",
      "55/55 [==============================] - 0s 6ms/step - loss: 1.1195 - accuracy: 0.5988 - val_loss: 0.7120 - val_accuracy: 0.8414\n",
      "Epoch 61/1000\n",
      "55/55 [==============================] - ETA: 0s - loss: 1.1193 - accuracy: 0.5971\n",
      "Epoch 61: saving model to model/keypoint_classifier/keypoint_classifier.hdf5\n",
      "55/55 [==============================] - 0s 6ms/step - loss: 1.1193 - accuracy: 0.5971 - val_loss: 0.7112 - val_accuracy: 0.8401\n",
      "Epoch 62/1000\n",
      "45/55 [=======================>......] - ETA: 0s - loss: 1.1152 - accuracy: 0.5908\n",
      "Epoch 62: saving model to model/keypoint_classifier/keypoint_classifier.hdf5\n",
      "55/55 [==============================] - 0s 6ms/step - loss: 1.1148 - accuracy: 0.5901 - val_loss: 0.6999 - val_accuracy: 0.8397\n",
      "Epoch 63/1000\n",
      "54/55 [============================>.] - ETA: 0s - loss: 1.1168 - accuracy: 0.5994\n",
      "Epoch 63: saving model to model/keypoint_classifier/keypoint_classifier.hdf5\n",
      "55/55 [==============================] - 0s 6ms/step - loss: 1.1168 - accuracy: 0.5994 - val_loss: 0.7067 - val_accuracy: 0.8548\n",
      "Epoch 64/1000\n",
      "55/55 [==============================] - ETA: 0s - loss: 1.1331 - accuracy: 0.5843\n",
      "Epoch 64: saving model to model/keypoint_classifier/keypoint_classifier.hdf5\n",
      "55/55 [==============================] - 0s 7ms/step - loss: 1.1331 - accuracy: 0.5843 - val_loss: 0.6968 - val_accuracy: 0.8496\n",
      "Epoch 65/1000\n",
      "54/55 [============================>.] - ETA: 0s - loss: 1.1255 - accuracy: 0.5930\n",
      "Epoch 65: saving model to model/keypoint_classifier/keypoint_classifier.hdf5\n",
      "55/55 [==============================] - 0s 7ms/step - loss: 1.1263 - accuracy: 0.5928 - val_loss: 0.6934 - val_accuracy: 0.8587\n",
      "Epoch 66/1000\n",
      "45/55 [=======================>......] - ETA: 0s - loss: 1.1120 - accuracy: 0.6012\n",
      "Epoch 66: saving model to model/keypoint_classifier/keypoint_classifier.hdf5\n",
      "55/55 [==============================] - 0s 6ms/step - loss: 1.1131 - accuracy: 0.6014 - val_loss: 0.6981 - val_accuracy: 0.8505\n",
      "Epoch 67/1000\n",
      "55/55 [==============================] - ETA: 0s - loss: 1.1077 - accuracy: 0.6000\n",
      "Epoch 67: saving model to model/keypoint_classifier/keypoint_classifier.hdf5\n",
      "55/55 [==============================] - 0s 6ms/step - loss: 1.1077 - accuracy: 0.6000 - val_loss: 0.6832 - val_accuracy: 0.8665\n",
      "Epoch 68/1000\n",
      "55/55 [==============================] - ETA: 0s - loss: 1.0944 - accuracy: 0.6009\n",
      "Epoch 68: saving model to model/keypoint_classifier/keypoint_classifier.hdf5\n",
      "55/55 [==============================] - 0s 6ms/step - loss: 1.0944 - accuracy: 0.6009 - val_loss: 0.6702 - val_accuracy: 0.8634\n",
      "Epoch 69/1000\n",
      "51/55 [==========================>...] - ETA: 0s - loss: 1.1034 - accuracy: 0.6039\n",
      "Epoch 69: saving model to model/keypoint_classifier/keypoint_classifier.hdf5\n",
      "55/55 [==============================] - 0s 7ms/step - loss: 1.1032 - accuracy: 0.6024 - val_loss: 0.6730 - val_accuracy: 0.8583\n",
      "Epoch 70/1000\n",
      "45/55 [=======================>......] - ETA: 0s - loss: 1.1104 - accuracy: 0.5998\n",
      "Epoch 70: saving model to model/keypoint_classifier/keypoint_classifier.hdf5\n",
      "55/55 [==============================] - 0s 6ms/step - loss: 1.1072 - accuracy: 0.5999 - val_loss: 0.6754 - val_accuracy: 0.8825\n",
      "Epoch 71/1000\n",
      "55/55 [==============================] - ETA: 0s - loss: 1.0839 - accuracy: 0.6086\n",
      "Epoch 71: saving model to model/keypoint_classifier/keypoint_classifier.hdf5\n",
      "55/55 [==============================] - 0s 6ms/step - loss: 1.0839 - accuracy: 0.6086 - val_loss: 0.6643 - val_accuracy: 0.8721\n",
      "Epoch 72/1000\n",
      "54/55 [============================>.] - ETA: 0s - loss: 1.0854 - accuracy: 0.6110\n",
      "Epoch 72: saving model to model/keypoint_classifier/keypoint_classifier.hdf5\n",
      "55/55 [==============================] - 0s 6ms/step - loss: 1.0854 - accuracy: 0.6107 - val_loss: 0.6682 - val_accuracy: 0.8626\n",
      "Epoch 73/1000\n",
      "55/55 [==============================] - ETA: 0s - loss: 1.0942 - accuracy: 0.6017\n",
      "Epoch 73: saving model to model/keypoint_classifier/keypoint_classifier.hdf5\n",
      "55/55 [==============================] - 0s 6ms/step - loss: 1.0942 - accuracy: 0.6017 - val_loss: 0.6734 - val_accuracy: 0.8725\n",
      "Epoch 74/1000\n",
      "45/55 [=======================>......] - ETA: 0s - loss: 1.0844 - accuracy: 0.6099\n",
      "Epoch 74: saving model to model/keypoint_classifier/keypoint_classifier.hdf5\n",
      "55/55 [==============================] - 0s 6ms/step - loss: 1.0806 - accuracy: 0.6088 - val_loss: 0.6504 - val_accuracy: 0.8695\n",
      "Epoch 75/1000\n",
      "55/55 [==============================] - ETA: 0s - loss: 1.0845 - accuracy: 0.6085\n",
      "Epoch 75: saving model to model/keypoint_classifier/keypoint_classifier.hdf5\n",
      "55/55 [==============================] - 0s 6ms/step - loss: 1.0845 - accuracy: 0.6085 - val_loss: 0.6499 - val_accuracy: 0.8626\n",
      "Epoch 76/1000\n",
      "45/55 [=======================>......] - ETA: 0s - loss: 1.0585 - accuracy: 0.6146\n",
      "Epoch 76: saving model to model/keypoint_classifier/keypoint_classifier.hdf5\n",
      "55/55 [==============================] - 0s 6ms/step - loss: 1.0582 - accuracy: 0.6169 - val_loss: 0.6424 - val_accuracy: 0.8742\n",
      "Epoch 77/1000\n",
      "55/55 [==============================] - ETA: 0s - loss: 1.0748 - accuracy: 0.6134\n",
      "Epoch 77: saving model to model/keypoint_classifier/keypoint_classifier.hdf5\n",
      "55/55 [==============================] - 0s 6ms/step - loss: 1.0748 - accuracy: 0.6134 - val_loss: 0.6463 - val_accuracy: 0.8799\n",
      "Epoch 78/1000\n",
      "54/55 [============================>.] - ETA: 0s - loss: 1.0535 - accuracy: 0.6247\n",
      "Epoch 78: saving model to model/keypoint_classifier/keypoint_classifier.hdf5\n",
      "55/55 [==============================] - 0s 6ms/step - loss: 1.0533 - accuracy: 0.6246 - val_loss: 0.6455 - val_accuracy: 0.8794\n",
      "Epoch 79/1000\n",
      "45/55 [=======================>......] - ETA: 0s - loss: 1.0651 - accuracy: 0.6111\n",
      "Epoch 79: saving model to model/keypoint_classifier/keypoint_classifier.hdf5\n",
      "55/55 [==============================] - 0s 6ms/step - loss: 1.0682 - accuracy: 0.6086 - val_loss: 0.6396 - val_accuracy: 0.8812\n",
      "Epoch 80/1000\n",
      "54/55 [============================>.] - ETA: 0s - loss: 1.0474 - accuracy: 0.6192\n",
      "Epoch 80: saving model to model/keypoint_classifier/keypoint_classifier.hdf5\n",
      "55/55 [==============================] - 0s 6ms/step - loss: 1.0460 - accuracy: 0.6200 - val_loss: 0.6354 - val_accuracy: 0.8863\n",
      "Epoch 81/1000\n",
      "55/55 [==============================] - ETA: 0s - loss: 1.0593 - accuracy: 0.6170\n",
      "Epoch 81: saving model to model/keypoint_classifier/keypoint_classifier.hdf5\n",
      "55/55 [==============================] - 0s 6ms/step - loss: 1.0593 - accuracy: 0.6170 - val_loss: 0.6263 - val_accuracy: 0.8850\n",
      "Epoch 82/1000\n"
     ]
    },
    {
     "name": "stdout",
     "output_type": "stream",
     "text": [
      "55/55 [==============================] - ETA: 0s - loss: 1.0486 - accuracy: 0.6160\n",
      "Epoch 82: saving model to model/keypoint_classifier/keypoint_classifier.hdf5\n",
      "55/55 [==============================] - 0s 6ms/step - loss: 1.0486 - accuracy: 0.6160 - val_loss: 0.6253 - val_accuracy: 0.8850\n",
      "Epoch 83/1000\n",
      "55/55 [==============================] - ETA: 0s - loss: 1.0533 - accuracy: 0.6339\n",
      "Epoch 83: saving model to model/keypoint_classifier/keypoint_classifier.hdf5\n",
      "55/55 [==============================] - 0s 6ms/step - loss: 1.0533 - accuracy: 0.6339 - val_loss: 0.6203 - val_accuracy: 0.8876\n",
      "Epoch 84/1000\n",
      "45/55 [=======================>......] - ETA: 0s - loss: 1.0418 - accuracy: 0.6280\n",
      "Epoch 84: saving model to model/keypoint_classifier/keypoint_classifier.hdf5\n",
      "55/55 [==============================] - 0s 6ms/step - loss: 1.0460 - accuracy: 0.6246 - val_loss: 0.6235 - val_accuracy: 0.8876\n",
      "Epoch 85/1000\n",
      "45/55 [=======================>......] - ETA: 0s - loss: 1.0567 - accuracy: 0.6220\n",
      "Epoch 85: saving model to model/keypoint_classifier/keypoint_classifier.hdf5\n",
      "55/55 [==============================] - 0s 6ms/step - loss: 1.0520 - accuracy: 0.6218 - val_loss: 0.6226 - val_accuracy: 0.8786\n",
      "Epoch 86/1000\n",
      "45/55 [=======================>......] - ETA: 0s - loss: 1.0340 - accuracy: 0.6304\n",
      "Epoch 86: saving model to model/keypoint_classifier/keypoint_classifier.hdf5\n",
      "55/55 [==============================] - 0s 6ms/step - loss: 1.0398 - accuracy: 0.6297 - val_loss: 0.6041 - val_accuracy: 0.8911\n",
      "Epoch 87/1000\n",
      "55/55 [==============================] - ETA: 0s - loss: 1.0352 - accuracy: 0.6305\n",
      "Epoch 87: saving model to model/keypoint_classifier/keypoint_classifier.hdf5\n",
      "55/55 [==============================] - 0s 6ms/step - loss: 1.0352 - accuracy: 0.6305 - val_loss: 0.6072 - val_accuracy: 0.8950\n",
      "Epoch 88/1000\n",
      "45/55 [=======================>......] - ETA: 0s - loss: 1.0543 - accuracy: 0.6257\n",
      "Epoch 88: saving model to model/keypoint_classifier/keypoint_classifier.hdf5\n",
      "55/55 [==============================] - 0s 6ms/step - loss: 1.0491 - accuracy: 0.6254 - val_loss: 0.6041 - val_accuracy: 0.8872\n",
      "Epoch 89/1000\n",
      "53/55 [===========================>..] - ETA: 0s - loss: 1.0340 - accuracy: 0.6235\n",
      "Epoch 89: saving model to model/keypoint_classifier/keypoint_classifier.hdf5\n",
      "55/55 [==============================] - 0s 7ms/step - loss: 1.0366 - accuracy: 0.6229 - val_loss: 0.6099 - val_accuracy: 0.8911\n",
      "Epoch 90/1000\n",
      "45/55 [=======================>......] - ETA: 0s - loss: 1.0189 - accuracy: 0.6363\n",
      "Epoch 90: saving model to model/keypoint_classifier/keypoint_classifier.hdf5\n",
      "55/55 [==============================] - 0s 6ms/step - loss: 1.0191 - accuracy: 0.6354 - val_loss: 0.6084 - val_accuracy: 0.8842\n",
      "Epoch 91/1000\n",
      "55/55 [==============================] - ETA: 0s - loss: 1.0258 - accuracy: 0.6354\n",
      "Epoch 91: saving model to model/keypoint_classifier/keypoint_classifier.hdf5\n",
      "55/55 [==============================] - 0s 6ms/step - loss: 1.0258 - accuracy: 0.6354 - val_loss: 0.6032 - val_accuracy: 0.8959\n",
      "Epoch 92/1000\n",
      "53/55 [===========================>..] - ETA: 0s - loss: 1.0269 - accuracy: 0.6299\n",
      "Epoch 92: saving model to model/keypoint_classifier/keypoint_classifier.hdf5\n",
      "55/55 [==============================] - 0s 7ms/step - loss: 1.0268 - accuracy: 0.6301 - val_loss: 0.5982 - val_accuracy: 0.8954\n",
      "Epoch 93/1000\n",
      "55/55 [==============================] - ETA: 0s - loss: 1.0260 - accuracy: 0.6333\n",
      "Epoch 93: saving model to model/keypoint_classifier/keypoint_classifier.hdf5\n",
      "55/55 [==============================] - 0s 6ms/step - loss: 1.0260 - accuracy: 0.6333 - val_loss: 0.5967 - val_accuracy: 0.8941\n",
      "Epoch 94/1000\n",
      "45/55 [=======================>......] - ETA: 0s - loss: 1.0122 - accuracy: 0.6377\n",
      "Epoch 94: saving model to model/keypoint_classifier/keypoint_classifier.hdf5\n",
      "55/55 [==============================] - 0s 6ms/step - loss: 1.0155 - accuracy: 0.6365 - val_loss: 0.5970 - val_accuracy: 0.8799\n",
      "Epoch 95/1000\n",
      "55/55 [==============================] - ETA: 0s - loss: 1.0297 - accuracy: 0.6324\n",
      "Epoch 95: saving model to model/keypoint_classifier/keypoint_classifier.hdf5\n",
      "55/55 [==============================] - 0s 6ms/step - loss: 1.0297 - accuracy: 0.6324 - val_loss: 0.5873 - val_accuracy: 0.8937\n",
      "Epoch 96/1000\n",
      "55/55 [==============================] - ETA: 0s - loss: 1.0166 - accuracy: 0.6392\n",
      "Epoch 96: saving model to model/keypoint_classifier/keypoint_classifier.hdf5\n",
      "55/55 [==============================] - 0s 6ms/step - loss: 1.0166 - accuracy: 0.6392 - val_loss: 0.5885 - val_accuracy: 0.8967\n",
      "Epoch 97/1000\n",
      "55/55 [==============================] - ETA: 0s - loss: 1.0126 - accuracy: 0.6304\n",
      "Epoch 97: saving model to model/keypoint_classifier/keypoint_classifier.hdf5\n",
      "55/55 [==============================] - 0s 6ms/step - loss: 1.0126 - accuracy: 0.6304 - val_loss: 0.5836 - val_accuracy: 0.8984\n",
      "Epoch 98/1000\n",
      "55/55 [==============================] - ETA: 0s - loss: 1.0010 - accuracy: 0.6372\n",
      "Epoch 98: saving model to model/keypoint_classifier/keypoint_classifier.hdf5\n",
      "55/55 [==============================] - 0s 6ms/step - loss: 1.0010 - accuracy: 0.6372 - val_loss: 0.5837 - val_accuracy: 0.8920\n",
      "Epoch 99/1000\n",
      "54/55 [============================>.] - ETA: 0s - loss: 1.0070 - accuracy: 0.6347\n",
      "Epoch 99: saving model to model/keypoint_classifier/keypoint_classifier.hdf5\n",
      "55/55 [==============================] - 0s 6ms/step - loss: 1.0062 - accuracy: 0.6347 - val_loss: 0.5908 - val_accuracy: 0.8863\n",
      "Epoch 100/1000\n",
      "45/55 [=======================>......] - ETA: 0s - loss: 0.9990 - accuracy: 0.6382\n",
      "Epoch 100: saving model to model/keypoint_classifier/keypoint_classifier.hdf5\n",
      "55/55 [==============================] - 0s 6ms/step - loss: 0.9969 - accuracy: 0.6382 - val_loss: 0.5801 - val_accuracy: 0.8898\n",
      "Epoch 101/1000\n",
      "55/55 [==============================] - ETA: 0s - loss: 0.9975 - accuracy: 0.6372\n",
      "Epoch 101: saving model to model/keypoint_classifier/keypoint_classifier.hdf5\n",
      "55/55 [==============================] - 0s 6ms/step - loss: 0.9975 - accuracy: 0.6372 - val_loss: 0.5745 - val_accuracy: 0.8971\n",
      "Epoch 102/1000\n",
      "45/55 [=======================>......] - ETA: 0s - loss: 1.0085 - accuracy: 0.6474\n",
      "Epoch 102: saving model to model/keypoint_classifier/keypoint_classifier.hdf5\n",
      "55/55 [==============================] - 0s 6ms/step - loss: 1.0094 - accuracy: 0.6478 - val_loss: 0.5890 - val_accuracy: 0.8933\n",
      "Epoch 103/1000\n",
      "45/55 [=======================>......] - ETA: 0s - loss: 0.9992 - accuracy: 0.6293\n",
      "Epoch 103: saving model to model/keypoint_classifier/keypoint_classifier.hdf5\n",
      "55/55 [==============================] - 0s 6ms/step - loss: 0.9974 - accuracy: 0.6324 - val_loss: 0.5781 - val_accuracy: 0.8911\n",
      "Epoch 104/1000\n",
      "55/55 [==============================] - ETA: 0s - loss: 1.0132 - accuracy: 0.6344\n",
      "Epoch 104: saving model to model/keypoint_classifier/keypoint_classifier.hdf5\n",
      "55/55 [==============================] - 0s 6ms/step - loss: 1.0132 - accuracy: 0.6344 - val_loss: 0.5761 - val_accuracy: 0.8846\n",
      "Epoch 105/1000\n",
      "55/55 [==============================] - ETA: 0s - loss: 0.9875 - accuracy: 0.6487\n",
      "Epoch 105: saving model to model/keypoint_classifier/keypoint_classifier.hdf5\n",
      "55/55 [==============================] - 0s 6ms/step - loss: 0.9875 - accuracy: 0.6487 - val_loss: 0.5726 - val_accuracy: 0.8881\n",
      "Epoch 106/1000\n",
      "55/55 [==============================] - ETA: 0s - loss: 0.9924 - accuracy: 0.6445\n",
      "Epoch 106: saving model to model/keypoint_classifier/keypoint_classifier.hdf5\n",
      "55/55 [==============================] - 0s 6ms/step - loss: 0.9924 - accuracy: 0.6445 - val_loss: 0.5739 - val_accuracy: 0.8946\n",
      "Epoch 107/1000\n",
      "55/55 [==============================] - ETA: 0s - loss: 1.0051 - accuracy: 0.6406\n",
      "Epoch 107: saving model to model/keypoint_classifier/keypoint_classifier.hdf5\n",
      "55/55 [==============================] - 0s 6ms/step - loss: 1.0051 - accuracy: 0.6406 - val_loss: 0.5678 - val_accuracy: 0.8889\n",
      "Epoch 108/1000\n",
      "45/55 [=======================>......] - ETA: 0s - loss: 1.0129 - accuracy: 0.6342\n",
      "Epoch 108: saving model to model/keypoint_classifier/keypoint_classifier.hdf5\n",
      "55/55 [==============================] - 0s 6ms/step - loss: 1.0129 - accuracy: 0.6320 - val_loss: 0.5877 - val_accuracy: 0.8863\n",
      "Epoch 109/1000\n"
     ]
    },
    {
     "name": "stdout",
     "output_type": "stream",
     "text": [
      "48/55 [=========================>....] - ETA: 0s - loss: 0.9775 - accuracy: 0.6465\n",
      "Epoch 109: saving model to model/keypoint_classifier/keypoint_classifier.hdf5\n",
      "55/55 [==============================] - 0s 6ms/step - loss: 0.9829 - accuracy: 0.6442 - val_loss: 0.5705 - val_accuracy: 0.8924\n",
      "Epoch 110/1000\n",
      "45/55 [=======================>......] - ETA: 0s - loss: 0.9843 - accuracy: 0.6444\n",
      "Epoch 110: saving model to model/keypoint_classifier/keypoint_classifier.hdf5\n",
      "55/55 [==============================] - 0s 6ms/step - loss: 0.9935 - accuracy: 0.6390 - val_loss: 0.5641 - val_accuracy: 0.8950\n",
      "Epoch 111/1000\n",
      "45/55 [=======================>......] - ETA: 0s - loss: 0.9908 - accuracy: 0.6424\n",
      "Epoch 111: saving model to model/keypoint_classifier/keypoint_classifier.hdf5\n",
      "55/55 [==============================] - 0s 6ms/step - loss: 0.9896 - accuracy: 0.6419 - val_loss: 0.5575 - val_accuracy: 0.8863\n",
      "Epoch 112/1000\n",
      "45/55 [=======================>......] - ETA: 0s - loss: 0.9772 - accuracy: 0.6448\n",
      "Epoch 112: saving model to model/keypoint_classifier/keypoint_classifier.hdf5\n",
      "55/55 [==============================] - 0s 6ms/step - loss: 0.9760 - accuracy: 0.6467 - val_loss: 0.5633 - val_accuracy: 0.8842\n",
      "Epoch 113/1000\n",
      "55/55 [==============================] - ETA: 0s - loss: 0.9720 - accuracy: 0.6501\n",
      "Epoch 113: saving model to model/keypoint_classifier/keypoint_classifier.hdf5\n",
      "55/55 [==============================] - 0s 6ms/step - loss: 0.9720 - accuracy: 0.6501 - val_loss: 0.5540 - val_accuracy: 0.8967\n",
      "Epoch 114/1000\n",
      "46/55 [========================>.....] - ETA: 0s - loss: 0.9851 - accuracy: 0.6547\n",
      "Epoch 114: saving model to model/keypoint_classifier/keypoint_classifier.hdf5\n",
      "55/55 [==============================] - 0s 6ms/step - loss: 0.9823 - accuracy: 0.6527 - val_loss: 0.5553 - val_accuracy: 0.8911\n",
      "Epoch 115/1000\n",
      "55/55 [==============================] - ETA: 0s - loss: 0.9957 - accuracy: 0.6441\n",
      "Epoch 115: saving model to model/keypoint_classifier/keypoint_classifier.hdf5\n",
      "55/55 [==============================] - 0s 6ms/step - loss: 0.9957 - accuracy: 0.6441 - val_loss: 0.5486 - val_accuracy: 0.8959\n",
      "Epoch 116/1000\n",
      "55/55 [==============================] - ETA: 0s - loss: 0.9737 - accuracy: 0.6486\n",
      "Epoch 116: saving model to model/keypoint_classifier/keypoint_classifier.hdf5\n",
      "55/55 [==============================] - 0s 6ms/step - loss: 0.9737 - accuracy: 0.6486 - val_loss: 0.5523 - val_accuracy: 0.8937\n",
      "Epoch 117/1000\n",
      "45/55 [=======================>......] - ETA: 0s - loss: 1.0014 - accuracy: 0.6436\n",
      "Epoch 117: saving model to model/keypoint_classifier/keypoint_classifier.hdf5\n",
      "55/55 [==============================] - 0s 6ms/step - loss: 1.0066 - accuracy: 0.6412 - val_loss: 0.5565 - val_accuracy: 0.8924\n",
      "Epoch 118/1000\n",
      "45/55 [=======================>......] - ETA: 0s - loss: 0.9814 - accuracy: 0.6583\n",
      "Epoch 118: saving model to model/keypoint_classifier/keypoint_classifier.hdf5\n",
      "55/55 [==============================] - 0s 6ms/step - loss: 0.9852 - accuracy: 0.6578 - val_loss: 0.5606 - val_accuracy: 0.8876\n",
      "Epoch 119/1000\n",
      "54/55 [============================>.] - ETA: 0s - loss: 0.9823 - accuracy: 0.6454\n",
      "Epoch 119: saving model to model/keypoint_classifier/keypoint_classifier.hdf5\n",
      "55/55 [==============================] - 0s 6ms/step - loss: 0.9816 - accuracy: 0.6457 - val_loss: 0.5592 - val_accuracy: 0.8898\n",
      "Epoch 120/1000\n",
      "45/55 [=======================>......] - ETA: 0s - loss: 0.9814 - accuracy: 0.6434\n",
      "Epoch 120: saving model to model/keypoint_classifier/keypoint_classifier.hdf5\n",
      "55/55 [==============================] - 0s 6ms/step - loss: 0.9779 - accuracy: 0.6458 - val_loss: 0.5649 - val_accuracy: 0.8868\n",
      "Epoch 121/1000\n",
      "55/55 [==============================] - ETA: 0s - loss: 0.9721 - accuracy: 0.6496\n",
      "Epoch 121: saving model to model/keypoint_classifier/keypoint_classifier.hdf5\n",
      "55/55 [==============================] - 0s 6ms/step - loss: 0.9721 - accuracy: 0.6496 - val_loss: 0.5454 - val_accuracy: 0.8946\n",
      "Epoch 122/1000\n",
      "55/55 [==============================] - ETA: 0s - loss: 0.9729 - accuracy: 0.6486\n",
      "Epoch 122: saving model to model/keypoint_classifier/keypoint_classifier.hdf5\n",
      "55/55 [==============================] - 0s 6ms/step - loss: 0.9729 - accuracy: 0.6486 - val_loss: 0.5572 - val_accuracy: 0.8829\n",
      "Epoch 123/1000\n",
      "54/55 [============================>.] - ETA: 0s - loss: 0.9779 - accuracy: 0.6477\n",
      "Epoch 123: saving model to model/keypoint_classifier/keypoint_classifier.hdf5\n",
      "55/55 [==============================] - 0s 6ms/step - loss: 0.9780 - accuracy: 0.6476 - val_loss: 0.5589 - val_accuracy: 0.8928\n",
      "Epoch 124/1000\n",
      "55/55 [==============================] - ETA: 0s - loss: 0.9644 - accuracy: 0.6522\n",
      "Epoch 124: saving model to model/keypoint_classifier/keypoint_classifier.hdf5\n",
      "55/55 [==============================] - 0s 7ms/step - loss: 0.9644 - accuracy: 0.6522 - val_loss: 0.5538 - val_accuracy: 0.8915\n",
      "Epoch 125/1000\n",
      "55/55 [==============================] - ETA: 0s - loss: 0.9693 - accuracy: 0.6435\n",
      "Epoch 125: saving model to model/keypoint_classifier/keypoint_classifier.hdf5\n",
      "55/55 [==============================] - 0s 6ms/step - loss: 0.9693 - accuracy: 0.6435 - val_loss: 0.5395 - val_accuracy: 0.8959\n",
      "Epoch 126/1000\n",
      "55/55 [==============================] - ETA: 0s - loss: 0.9542 - accuracy: 0.6625\n",
      "Epoch 126: saving model to model/keypoint_classifier/keypoint_classifier.hdf5\n",
      "55/55 [==============================] - 0s 6ms/step - loss: 0.9542 - accuracy: 0.6625 - val_loss: 0.5426 - val_accuracy: 0.8915\n",
      "Epoch 127/1000\n",
      "54/55 [============================>.] - ETA: 0s - loss: 0.9668 - accuracy: 0.6487\n",
      "Epoch 127: saving model to model/keypoint_classifier/keypoint_classifier.hdf5\n",
      "55/55 [==============================] - 0s 6ms/step - loss: 0.9656 - accuracy: 0.6493 - val_loss: 0.5446 - val_accuracy: 0.8876\n",
      "Epoch 128/1000\n",
      "55/55 [==============================] - ETA: 0s - loss: 0.9626 - accuracy: 0.6546\n",
      "Epoch 128: saving model to model/keypoint_classifier/keypoint_classifier.hdf5\n",
      "55/55 [==============================] - 0s 6ms/step - loss: 0.9626 - accuracy: 0.6546 - val_loss: 0.5469 - val_accuracy: 0.8928\n",
      "Epoch 129/1000\n",
      "55/55 [==============================] - ETA: 0s - loss: 0.9793 - accuracy: 0.6490\n",
      "Epoch 129: saving model to model/keypoint_classifier/keypoint_classifier.hdf5\n",
      "55/55 [==============================] - 0s 6ms/step - loss: 0.9793 - accuracy: 0.6490 - val_loss: 0.5436 - val_accuracy: 0.8812\n",
      "Epoch 130/1000\n",
      "54/55 [============================>.] - ETA: 0s - loss: 0.9705 - accuracy: 0.6454\n",
      "Epoch 130: saving model to model/keypoint_classifier/keypoint_classifier.hdf5\n",
      "55/55 [==============================] - 0s 6ms/step - loss: 0.9709 - accuracy: 0.6452 - val_loss: 0.5443 - val_accuracy: 0.8885\n",
      "Epoch 131/1000\n",
      "55/55 [==============================] - ETA: 0s - loss: 0.9664 - accuracy: 0.6527\n",
      "Epoch 131: saving model to model/keypoint_classifier/keypoint_classifier.hdf5\n",
      "55/55 [==============================] - 0s 6ms/step - loss: 0.9664 - accuracy: 0.6527 - val_loss: 0.5493 - val_accuracy: 0.8876\n",
      "Epoch 132/1000\n",
      "45/55 [=======================>......] - ETA: 0s - loss: 0.9678 - accuracy: 0.6571\n",
      "Epoch 132: saving model to model/keypoint_classifier/keypoint_classifier.hdf5\n",
      "55/55 [==============================] - 0s 6ms/step - loss: 0.9675 - accuracy: 0.6571 - val_loss: 0.5369 - val_accuracy: 0.8894\n",
      "Epoch 133/1000\n",
      "45/55 [=======================>......] - ETA: 0s - loss: 0.9767 - accuracy: 0.6495\n",
      "Epoch 133: saving model to model/keypoint_classifier/keypoint_classifier.hdf5\n",
      "55/55 [==============================] - 0s 6ms/step - loss: 0.9773 - accuracy: 0.6474 - val_loss: 0.5453 - val_accuracy: 0.8898\n",
      "Epoch 134/1000\n",
      "45/55 [=======================>......] - ETA: 0s - loss: 0.9565 - accuracy: 0.6538\n",
      "Epoch 134: saving model to model/keypoint_classifier/keypoint_classifier.hdf5\n",
      "55/55 [==============================] - 0s 6ms/step - loss: 0.9555 - accuracy: 0.6559 - val_loss: 0.5422 - val_accuracy: 0.8902\n",
      "Epoch 135/1000\n",
      "45/55 [=======================>......] - ETA: 0s - loss: 0.9665 - accuracy: 0.6533\n",
      "Epoch 135: saving model to model/keypoint_classifier/keypoint_classifier.hdf5\n",
      "55/55 [==============================] - 0s 6ms/step - loss: 0.9624 - accuracy: 0.6549 - val_loss: 0.5392 - val_accuracy: 0.8946\n"
     ]
    },
    {
     "name": "stdout",
     "output_type": "stream",
     "text": [
      "Epoch 136/1000\n",
      "54/55 [============================>.] - ETA: 0s - loss: 0.9512 - accuracy: 0.6549\n",
      "Epoch 136: saving model to model/keypoint_classifier/keypoint_classifier.hdf5\n",
      "55/55 [==============================] - 0s 6ms/step - loss: 0.9519 - accuracy: 0.6548 - val_loss: 0.5360 - val_accuracy: 0.8825\n",
      "Epoch 137/1000\n",
      "46/55 [========================>.....] - ETA: 0s - loss: 0.9634 - accuracy: 0.6586\n",
      "Epoch 137: saving model to model/keypoint_classifier/keypoint_classifier.hdf5\n",
      "55/55 [==============================] - 0s 6ms/step - loss: 0.9549 - accuracy: 0.6594 - val_loss: 0.5488 - val_accuracy: 0.8850\n",
      "Epoch 138/1000\n",
      "45/55 [=======================>......] - ETA: 0s - loss: 0.9525 - accuracy: 0.6516\n",
      "Epoch 138: saving model to model/keypoint_classifier/keypoint_classifier.hdf5\n",
      "55/55 [==============================] - 0s 6ms/step - loss: 0.9548 - accuracy: 0.6477 - val_loss: 0.5247 - val_accuracy: 0.8946\n",
      "Epoch 139/1000\n",
      "55/55 [==============================] - ETA: 0s - loss: 0.9625 - accuracy: 0.6615\n",
      "Epoch 139: saving model to model/keypoint_classifier/keypoint_classifier.hdf5\n",
      "55/55 [==============================] - 0s 6ms/step - loss: 0.9625 - accuracy: 0.6615 - val_loss: 0.5390 - val_accuracy: 0.8907\n",
      "Epoch 140/1000\n",
      "46/55 [========================>.....] - ETA: 0s - loss: 0.9612 - accuracy: 0.6600\n",
      "Epoch 140: saving model to model/keypoint_classifier/keypoint_classifier.hdf5\n",
      "55/55 [==============================] - 0s 6ms/step - loss: 0.9589 - accuracy: 0.6569 - val_loss: 0.5366 - val_accuracy: 0.8885\n",
      "Epoch 141/1000\n",
      "45/55 [=======================>......] - ETA: 0s - loss: 0.9532 - accuracy: 0.6575\n",
      "Epoch 141: saving model to model/keypoint_classifier/keypoint_classifier.hdf5\n",
      "55/55 [==============================] - 0s 6ms/step - loss: 0.9515 - accuracy: 0.6578 - val_loss: 0.5246 - val_accuracy: 0.8984\n",
      "Epoch 142/1000\n",
      "54/55 [============================>.] - ETA: 0s - loss: 0.9547 - accuracy: 0.6591\n",
      "Epoch 142: saving model to model/keypoint_classifier/keypoint_classifier.hdf5\n",
      "55/55 [==============================] - 0s 6ms/step - loss: 0.9546 - accuracy: 0.6589 - val_loss: 0.5265 - val_accuracy: 0.8954\n",
      "Epoch 143/1000\n",
      "55/55 [==============================] - ETA: 0s - loss: 0.9473 - accuracy: 0.6624\n",
      "Epoch 143: saving model to model/keypoint_classifier/keypoint_classifier.hdf5\n",
      "55/55 [==============================] - 0s 6ms/step - loss: 0.9473 - accuracy: 0.6624 - val_loss: 0.5421 - val_accuracy: 0.8915\n",
      "Epoch 144/1000\n",
      "55/55 [==============================] - ETA: 0s - loss: 0.9422 - accuracy: 0.6650\n",
      "Epoch 144: saving model to model/keypoint_classifier/keypoint_classifier.hdf5\n",
      "55/55 [==============================] - 0s 6ms/step - loss: 0.9422 - accuracy: 0.6650 - val_loss: 0.5324 - val_accuracy: 0.8855\n",
      "Epoch 145/1000\n",
      "49/55 [=========================>....] - ETA: 0s - loss: 0.9306 - accuracy: 0.6625\n",
      "Epoch 145: saving model to model/keypoint_classifier/keypoint_classifier.hdf5\n",
      "55/55 [==============================] - 0s 7ms/step - loss: 0.9330 - accuracy: 0.6607 - val_loss: 0.5254 - val_accuracy: 0.8928\n",
      "Epoch 146/1000\n",
      "52/55 [===========================>..] - ETA: 0s - loss: 0.9491 - accuracy: 0.6632\n",
      "Epoch 146: saving model to model/keypoint_classifier/keypoint_classifier.hdf5\n",
      "55/55 [==============================] - 0s 7ms/step - loss: 0.9513 - accuracy: 0.6628 - val_loss: 0.5196 - val_accuracy: 0.8959\n",
      "Epoch 147/1000\n",
      "45/55 [=======================>......] - ETA: 0s - loss: 0.9417 - accuracy: 0.6618\n",
      "Epoch 147: saving model to model/keypoint_classifier/keypoint_classifier.hdf5\n",
      "55/55 [==============================] - 0s 6ms/step - loss: 0.9384 - accuracy: 0.6610 - val_loss: 0.5328 - val_accuracy: 0.8898\n",
      "Epoch 148/1000\n",
      "45/55 [=======================>......] - ETA: 0s - loss: 0.9467 - accuracy: 0.6623\n",
      "Epoch 148: saving model to model/keypoint_classifier/keypoint_classifier.hdf5\n",
      "55/55 [==============================] - 0s 6ms/step - loss: 0.9454 - accuracy: 0.6622 - val_loss: 0.5259 - val_accuracy: 0.8963\n",
      "Epoch 149/1000\n",
      "45/55 [=======================>......] - ETA: 0s - loss: 0.9235 - accuracy: 0.6682\n",
      "Epoch 149: saving model to model/keypoint_classifier/keypoint_classifier.hdf5\n",
      "55/55 [==============================] - 0s 6ms/step - loss: 0.9311 - accuracy: 0.6660 - val_loss: 0.5087 - val_accuracy: 0.9045\n",
      "Epoch 150/1000\n",
      "45/55 [=======================>......] - ETA: 0s - loss: 0.9470 - accuracy: 0.6635\n",
      "Epoch 150: saving model to model/keypoint_classifier/keypoint_classifier.hdf5\n",
      "55/55 [==============================] - 0s 6ms/step - loss: 0.9416 - accuracy: 0.6641 - val_loss: 0.5179 - val_accuracy: 0.8928\n",
      "Epoch 151/1000\n",
      "46/55 [========================>.....] - ETA: 0s - loss: 0.9312 - accuracy: 0.6685\n",
      "Epoch 151: saving model to model/keypoint_classifier/keypoint_classifier.hdf5\n",
      "55/55 [==============================] - 0s 6ms/step - loss: 0.9260 - accuracy: 0.6689 - val_loss: 0.5206 - val_accuracy: 0.9002\n",
      "Epoch 152/1000\n",
      "45/55 [=======================>......] - ETA: 0s - loss: 0.9153 - accuracy: 0.6696\n",
      "Epoch 152: saving model to model/keypoint_classifier/keypoint_classifier.hdf5\n",
      "55/55 [==============================] - 0s 6ms/step - loss: 0.9245 - accuracy: 0.6679 - val_loss: 0.5205 - val_accuracy: 0.8954\n",
      "Epoch 153/1000\n",
      "45/55 [=======================>......] - ETA: 0s - loss: 0.9582 - accuracy: 0.6578\n",
      "Epoch 153: saving model to model/keypoint_classifier/keypoint_classifier.hdf5\n",
      "55/55 [==============================] - 0s 6ms/step - loss: 0.9514 - accuracy: 0.6615 - val_loss: 0.5182 - val_accuracy: 0.9041\n",
      "Epoch 154/1000\n",
      "45/55 [=======================>......] - ETA: 0s - loss: 0.9373 - accuracy: 0.6661\n",
      "Epoch 154: saving model to model/keypoint_classifier/keypoint_classifier.hdf5\n",
      "55/55 [==============================] - 0s 6ms/step - loss: 0.9355 - accuracy: 0.6656 - val_loss: 0.5234 - val_accuracy: 0.8902\n",
      "Epoch 155/1000\n",
      "46/55 [========================>.....] - ETA: 0s - loss: 0.9414 - accuracy: 0.6622\n",
      "Epoch 155: saving model to model/keypoint_classifier/keypoint_classifier.hdf5\n",
      "55/55 [==============================] - 0s 6ms/step - loss: 0.9496 - accuracy: 0.6579 - val_loss: 0.5121 - val_accuracy: 0.8967\n",
      "Epoch 156/1000\n",
      "46/55 [========================>.....] - ETA: 0s - loss: 0.9421 - accuracy: 0.6644\n",
      "Epoch 156: saving model to model/keypoint_classifier/keypoint_classifier.hdf5\n",
      "55/55 [==============================] - 0s 6ms/step - loss: 0.9413 - accuracy: 0.6614 - val_loss: 0.5363 - val_accuracy: 0.8989\n",
      "Epoch 157/1000\n",
      "46/55 [========================>.....] - ETA: 0s - loss: 0.9401 - accuracy: 0.6697\n",
      "Epoch 157: saving model to model/keypoint_classifier/keypoint_classifier.hdf5\n",
      "55/55 [==============================] - 0s 6ms/step - loss: 0.9368 - accuracy: 0.6710 - val_loss: 0.5223 - val_accuracy: 0.8997\n",
      "Epoch 158/1000\n",
      "45/55 [=======================>......] - ETA: 0s - loss: 0.9366 - accuracy: 0.6637\n",
      "Epoch 158: saving model to model/keypoint_classifier/keypoint_classifier.hdf5\n",
      "55/55 [==============================] - 0s 6ms/step - loss: 0.9305 - accuracy: 0.6641 - val_loss: 0.5025 - val_accuracy: 0.9041\n",
      "Epoch 159/1000\n",
      "46/55 [========================>.....] - ETA: 0s - loss: 0.9392 - accuracy: 0.6591\n",
      "Epoch 159: saving model to model/keypoint_classifier/keypoint_classifier.hdf5\n",
      "55/55 [==============================] - 0s 6ms/step - loss: 0.9392 - accuracy: 0.6573 - val_loss: 0.5126 - val_accuracy: 0.8980\n",
      "Epoch 160/1000\n",
      "45/55 [=======================>......] - ETA: 0s - loss: 0.9428 - accuracy: 0.6550\n",
      "Epoch 160: saving model to model/keypoint_classifier/keypoint_classifier.hdf5\n",
      "55/55 [==============================] - 0s 6ms/step - loss: 0.9356 - accuracy: 0.6565 - val_loss: 0.5173 - val_accuracy: 0.8989\n",
      "Epoch 161/1000\n",
      "46/55 [========================>.....] - ETA: 0s - loss: 0.9224 - accuracy: 0.6702\n",
      "Epoch 161: saving model to model/keypoint_classifier/keypoint_classifier.hdf5\n",
      "55/55 [==============================] - 0s 6ms/step - loss: 0.9293 - accuracy: 0.6679 - val_loss: 0.5223 - val_accuracy: 0.8941\n",
      "Epoch 162/1000\n",
      "49/55 [=========================>....] - ETA: 0s - loss: 0.9225 - accuracy: 0.6703\n",
      "Epoch 162: saving model to model/keypoint_classifier/keypoint_classifier.hdf5\n",
      "55/55 [==============================] - 0s 6ms/step - loss: 0.9245 - accuracy: 0.6696 - val_loss: 0.5145 - val_accuracy: 0.8971\n"
     ]
    },
    {
     "name": "stdout",
     "output_type": "stream",
     "text": [
      "Epoch 163/1000\n",
      "47/55 [========================>.....] - ETA: 0s - loss: 0.9224 - accuracy: 0.6699\n",
      "Epoch 163: saving model to model/keypoint_classifier/keypoint_classifier.hdf5\n",
      "55/55 [==============================] - 0s 6ms/step - loss: 0.9207 - accuracy: 0.6696 - val_loss: 0.4949 - val_accuracy: 0.9080\n",
      "Epoch 164/1000\n",
      "45/55 [=======================>......] - ETA: 0s - loss: 0.9272 - accuracy: 0.6696\n",
      "Epoch 164: saving model to model/keypoint_classifier/keypoint_classifier.hdf5\n",
      "55/55 [==============================] - 0s 6ms/step - loss: 0.9298 - accuracy: 0.6679 - val_loss: 0.5073 - val_accuracy: 0.8993\n",
      "Epoch 165/1000\n",
      "47/55 [========================>.....] - ETA: 0s - loss: 0.9388 - accuracy: 0.6637\n",
      "Epoch 165: saving model to model/keypoint_classifier/keypoint_classifier.hdf5\n",
      "55/55 [==============================] - 0s 6ms/step - loss: 0.9464 - accuracy: 0.6617 - val_loss: 0.5067 - val_accuracy: 0.9058\n",
      "Epoch 166/1000\n",
      "46/55 [========================>.....] - ETA: 0s - loss: 0.9297 - accuracy: 0.6546\n",
      "Epoch 166: saving model to model/keypoint_classifier/keypoint_classifier.hdf5\n",
      "55/55 [==============================] - 0s 6ms/step - loss: 0.9230 - accuracy: 0.6585 - val_loss: 0.5162 - val_accuracy: 0.8941\n",
      "Epoch 167/1000\n",
      "45/55 [=======================>......] - ETA: 0s - loss: 0.9257 - accuracy: 0.6679\n",
      "Epoch 167: saving model to model/keypoint_classifier/keypoint_classifier.hdf5\n",
      "55/55 [==============================] - 0s 6ms/step - loss: 0.9297 - accuracy: 0.6684 - val_loss: 0.5086 - val_accuracy: 0.8971\n",
      "Epoch 168/1000\n",
      "49/55 [=========================>....] - ETA: 0s - loss: 0.9456 - accuracy: 0.6639\n",
      "Epoch 168: saving model to model/keypoint_classifier/keypoint_classifier.hdf5\n",
      "55/55 [==============================] - 0s 6ms/step - loss: 0.9457 - accuracy: 0.6643 - val_loss: 0.5016 - val_accuracy: 0.9041\n",
      "Epoch 169/1000\n",
      "48/55 [=========================>....] - ETA: 0s - loss: 0.9223 - accuracy: 0.6735\n",
      "Epoch 169: saving model to model/keypoint_classifier/keypoint_classifier.hdf5\n",
      "55/55 [==============================] - 0s 6ms/step - loss: 0.9284 - accuracy: 0.6702 - val_loss: 0.5084 - val_accuracy: 0.8954\n",
      "Epoch 170/1000\n",
      "45/55 [=======================>......] - ETA: 0s - loss: 0.9375 - accuracy: 0.6686\n",
      "Epoch 170: saving model to model/keypoint_classifier/keypoint_classifier.hdf5\n",
      "55/55 [==============================] - 0s 6ms/step - loss: 0.9434 - accuracy: 0.6661 - val_loss: 0.5033 - val_accuracy: 0.9058\n",
      "Epoch 171/1000\n",
      "47/55 [========================>.....] - ETA: 0s - loss: 0.9227 - accuracy: 0.6729\n",
      "Epoch 171: saving model to model/keypoint_classifier/keypoint_classifier.hdf5\n",
      "55/55 [==============================] - 0s 6ms/step - loss: 0.9235 - accuracy: 0.6712 - val_loss: 0.5045 - val_accuracy: 0.9019\n",
      "Epoch 172/1000\n",
      "45/55 [=======================>......] - ETA: 0s - loss: 0.9036 - accuracy: 0.6769\n",
      "Epoch 172: saving model to model/keypoint_classifier/keypoint_classifier.hdf5\n",
      "55/55 [==============================] - 0s 6ms/step - loss: 0.9106 - accuracy: 0.6752 - val_loss: 0.4959 - val_accuracy: 0.9080\n",
      "Epoch 173/1000\n",
      "45/55 [=======================>......] - ETA: 0s - loss: 0.9380 - accuracy: 0.6609\n",
      "Epoch 173: saving model to model/keypoint_classifier/keypoint_classifier.hdf5\n",
      "55/55 [==============================] - 0s 6ms/step - loss: 0.9350 - accuracy: 0.6624 - val_loss: 0.5041 - val_accuracy: 0.8959\n",
      "Epoch 174/1000\n",
      "47/55 [========================>.....] - ETA: 0s - loss: 0.9084 - accuracy: 0.6775\n",
      "Epoch 174: saving model to model/keypoint_classifier/keypoint_classifier.hdf5\n",
      "55/55 [==============================] - 0s 6ms/step - loss: 0.9063 - accuracy: 0.6771 - val_loss: 0.5086 - val_accuracy: 0.9045\n",
      "Epoch 175/1000\n",
      "48/55 [=========================>....] - ETA: 0s - loss: 0.9318 - accuracy: 0.6626\n",
      "Epoch 175: saving model to model/keypoint_classifier/keypoint_classifier.hdf5\n",
      "55/55 [==============================] - 0s 6ms/step - loss: 0.9280 - accuracy: 0.6615 - val_loss: 0.5069 - val_accuracy: 0.9071\n",
      "Epoch 176/1000\n",
      "47/55 [========================>.....] - ETA: 0s - loss: 0.9323 - accuracy: 0.6710\n",
      "Epoch 176: saving model to model/keypoint_classifier/keypoint_classifier.hdf5\n",
      "55/55 [==============================] - 0s 6ms/step - loss: 0.9314 - accuracy: 0.6696 - val_loss: 0.5014 - val_accuracy: 0.9045\n",
      "Epoch 177/1000\n",
      "55/55 [==============================] - ETA: 0s - loss: 0.9297 - accuracy: 0.6648\n",
      "Epoch 177: saving model to model/keypoint_classifier/keypoint_classifier.hdf5\n",
      "55/55 [==============================] - 0s 6ms/step - loss: 0.9297 - accuracy: 0.6648 - val_loss: 0.5124 - val_accuracy: 0.9015\n",
      "Epoch 178/1000\n",
      "49/55 [=========================>....] - ETA: 0s - loss: 0.9293 - accuracy: 0.6690\n",
      "Epoch 178: saving model to model/keypoint_classifier/keypoint_classifier.hdf5\n",
      "55/55 [==============================] - 0s 6ms/step - loss: 0.9302 - accuracy: 0.6670 - val_loss: 0.5168 - val_accuracy: 0.8959\n",
      "Epoch 179/1000\n",
      "47/55 [========================>.....] - ETA: 0s - loss: 0.9069 - accuracy: 0.6774\n",
      "Epoch 179: saving model to model/keypoint_classifier/keypoint_classifier.hdf5\n",
      "55/55 [==============================] - 0s 6ms/step - loss: 0.9034 - accuracy: 0.6768 - val_loss: 0.4944 - val_accuracy: 0.9075\n",
      "Epoch 180/1000\n",
      "47/55 [========================>.....] - ETA: 0s - loss: 0.9164 - accuracy: 0.6647\n",
      "Epoch 180: saving model to model/keypoint_classifier/keypoint_classifier.hdf5\n",
      "55/55 [==============================] - 0s 7ms/step - loss: 0.9062 - accuracy: 0.6696 - val_loss: 0.4948 - val_accuracy: 0.9062\n",
      "Epoch 181/1000\n",
      "51/55 [==========================>...] - ETA: 0s - loss: 0.9177 - accuracy: 0.6703\n",
      "Epoch 181: saving model to model/keypoint_classifier/keypoint_classifier.hdf5\n",
      "55/55 [==============================] - 0s 7ms/step - loss: 0.9154 - accuracy: 0.6700 - val_loss: 0.4959 - val_accuracy: 0.9028\n",
      "Epoch 182/1000\n",
      "48/55 [=========================>....] - ETA: 0s - loss: 0.9381 - accuracy: 0.6652\n",
      "Epoch 182: saving model to model/keypoint_classifier/keypoint_classifier.hdf5\n",
      "55/55 [==============================] - 0s 6ms/step - loss: 0.9352 - accuracy: 0.6659 - val_loss: 0.4975 - val_accuracy: 0.9062\n",
      "Epoch 183/1000\n",
      "49/55 [=========================>....] - ETA: 0s - loss: 0.9058 - accuracy: 0.6714\n",
      "Epoch 183: saving model to model/keypoint_classifier/keypoint_classifier.hdf5\n",
      "55/55 [==============================] - 0s 7ms/step - loss: 0.9086 - accuracy: 0.6709 - val_loss: 0.4949 - val_accuracy: 0.9041\n",
      "Epoch 184/1000\n",
      "49/55 [=========================>....] - ETA: 0s - loss: 0.9194 - accuracy: 0.6674\n",
      "Epoch 184: saving model to model/keypoint_classifier/keypoint_classifier.hdf5\n",
      "55/55 [==============================] - 0s 6ms/step - loss: 0.9198 - accuracy: 0.6677 - val_loss: 0.5003 - val_accuracy: 0.9045\n",
      "Epoch 185/1000\n",
      "47/55 [========================>.....] - ETA: 0s - loss: 0.9118 - accuracy: 0.6794\n",
      "Epoch 185: saving model to model/keypoint_classifier/keypoint_classifier.hdf5\n",
      "55/55 [==============================] - 0s 6ms/step - loss: 0.9117 - accuracy: 0.6787 - val_loss: 0.5010 - val_accuracy: 0.9036\n",
      "Epoch 186/1000\n",
      "48/55 [=========================>....] - ETA: 0s - loss: 0.9136 - accuracy: 0.6686\n",
      "Epoch 186: saving model to model/keypoint_classifier/keypoint_classifier.hdf5\n",
      "55/55 [==============================] - 0s 6ms/step - loss: 0.9186 - accuracy: 0.6680 - val_loss: 0.5015 - val_accuracy: 0.9075\n",
      "Epoch 187/1000\n",
      "48/55 [=========================>....] - ETA: 0s - loss: 0.8932 - accuracy: 0.6808\n",
      "Epoch 187: saving model to model/keypoint_classifier/keypoint_classifier.hdf5\n",
      "55/55 [==============================] - 0s 6ms/step - loss: 0.9024 - accuracy: 0.6777 - val_loss: 0.4979 - val_accuracy: 0.9006\n",
      "Epoch 188/1000\n",
      "49/55 [=========================>....] - ETA: 0s - loss: 0.9034 - accuracy: 0.6773\n",
      "Epoch 188: saving model to model/keypoint_classifier/keypoint_classifier.hdf5\n",
      "55/55 [==============================] - 0s 6ms/step - loss: 0.8999 - accuracy: 0.6771 - val_loss: 0.4997 - val_accuracy: 0.9028\n",
      "Epoch 189/1000\n",
      "49/55 [=========================>....] - ETA: 0s - loss: 0.9236 - accuracy: 0.6739\n",
      "Epoch 189: saving model to model/keypoint_classifier/keypoint_classifier.hdf5\n",
      "55/55 [==============================] - 0s 6ms/step - loss: 0.9231 - accuracy: 0.6736 - val_loss: 0.4937 - val_accuracy: 0.9067\n"
     ]
    },
    {
     "name": "stdout",
     "output_type": "stream",
     "text": [
      "Epoch 190/1000\n",
      "46/55 [========================>.....] - ETA: 0s - loss: 0.9258 - accuracy: 0.6663\n",
      "Epoch 190: saving model to model/keypoint_classifier/keypoint_classifier.hdf5\n",
      "55/55 [==============================] - 0s 6ms/step - loss: 0.9259 - accuracy: 0.6631 - val_loss: 0.5040 - val_accuracy: 0.9002\n",
      "Epoch 191/1000\n",
      "47/55 [========================>.....] - ETA: 0s - loss: 0.9152 - accuracy: 0.6725\n",
      "Epoch 191: saving model to model/keypoint_classifier/keypoint_classifier.hdf5\n",
      "55/55 [==============================] - 0s 6ms/step - loss: 0.9196 - accuracy: 0.6719 - val_loss: 0.4961 - val_accuracy: 0.9049\n",
      "Epoch 192/1000\n",
      "45/55 [=======================>......] - ETA: 0s - loss: 0.9156 - accuracy: 0.6727\n",
      "Epoch 192: saving model to model/keypoint_classifier/keypoint_classifier.hdf5\n",
      "55/55 [==============================] - 0s 6ms/step - loss: 0.9134 - accuracy: 0.6739 - val_loss: 0.4916 - val_accuracy: 0.9049\n",
      "Epoch 193/1000\n",
      "47/55 [========================>.....] - ETA: 0s - loss: 0.8952 - accuracy: 0.6827\n",
      "Epoch 193: saving model to model/keypoint_classifier/keypoint_classifier.hdf5\n",
      "55/55 [==============================] - 0s 6ms/step - loss: 0.8896 - accuracy: 0.6850 - val_loss: 0.4866 - val_accuracy: 0.9118\n",
      "Epoch 194/1000\n",
      "49/55 [=========================>....] - ETA: 0s - loss: 0.9214 - accuracy: 0.6628\n",
      "Epoch 194: saving model to model/keypoint_classifier/keypoint_classifier.hdf5\n",
      "55/55 [==============================] - 0s 6ms/step - loss: 0.9249 - accuracy: 0.6617 - val_loss: 0.4982 - val_accuracy: 0.9062\n",
      "Epoch 195/1000\n",
      "45/55 [=======================>......] - ETA: 0s - loss: 0.9051 - accuracy: 0.6785\n",
      "Epoch 195: saving model to model/keypoint_classifier/keypoint_classifier.hdf5\n",
      "55/55 [==============================] - 0s 6ms/step - loss: 0.9123 - accuracy: 0.6736 - val_loss: 0.4965 - val_accuracy: 0.9062\n",
      "Epoch 196/1000\n",
      "47/55 [========================>.....] - ETA: 0s - loss: 0.9038 - accuracy: 0.6823\n",
      "Epoch 196: saving model to model/keypoint_classifier/keypoint_classifier.hdf5\n",
      "55/55 [==============================] - 0s 6ms/step - loss: 0.9083 - accuracy: 0.6772 - val_loss: 0.4840 - val_accuracy: 0.9105\n",
      "Epoch 197/1000\n",
      "46/55 [========================>.....] - ETA: 0s - loss: 0.9253 - accuracy: 0.6703\n",
      "Epoch 197: saving model to model/keypoint_classifier/keypoint_classifier.hdf5\n",
      "55/55 [==============================] - 0s 6ms/step - loss: 0.9266 - accuracy: 0.6710 - val_loss: 0.4972 - val_accuracy: 0.9015\n",
      "Epoch 198/1000\n",
      "45/55 [=======================>......] - ETA: 0s - loss: 0.8854 - accuracy: 0.6804\n",
      "Epoch 198: saving model to model/keypoint_classifier/keypoint_classifier.hdf5\n",
      "55/55 [==============================] - 0s 6ms/step - loss: 0.8855 - accuracy: 0.6798 - val_loss: 0.4706 - val_accuracy: 0.9144\n",
      "Epoch 199/1000\n",
      "47/55 [========================>.....] - ETA: 0s - loss: 0.8933 - accuracy: 0.6787\n",
      "Epoch 199: saving model to model/keypoint_classifier/keypoint_classifier.hdf5\n",
      "55/55 [==============================] - 0s 6ms/step - loss: 0.8949 - accuracy: 0.6778 - val_loss: 0.5011 - val_accuracy: 0.8937\n",
      "Epoch 200/1000\n",
      "48/55 [=========================>....] - ETA: 0s - loss: 0.9003 - accuracy: 0.6742\n",
      "Epoch 200: saving model to model/keypoint_classifier/keypoint_classifier.hdf5\n",
      "55/55 [==============================] - 0s 6ms/step - loss: 0.9009 - accuracy: 0.6735 - val_loss: 0.4980 - val_accuracy: 0.9028\n",
      "Epoch 201/1000\n",
      "47/55 [========================>.....] - ETA: 0s - loss: 0.9155 - accuracy: 0.6671\n",
      "Epoch 201: saving model to model/keypoint_classifier/keypoint_classifier.hdf5\n",
      "55/55 [==============================] - 0s 6ms/step - loss: 0.9076 - accuracy: 0.6718 - val_loss: 0.4909 - val_accuracy: 0.9036\n",
      "Epoch 202/1000\n",
      "48/55 [=========================>....] - ETA: 0s - loss: 0.8928 - accuracy: 0.6784\n",
      "Epoch 202: saving model to model/keypoint_classifier/keypoint_classifier.hdf5\n",
      "55/55 [==============================] - 0s 6ms/step - loss: 0.9025 - accuracy: 0.6726 - val_loss: 0.4930 - val_accuracy: 0.9075\n",
      "Epoch 203/1000\n",
      "49/55 [=========================>....] - ETA: 0s - loss: 0.9100 - accuracy: 0.6786\n",
      "Epoch 203: saving model to model/keypoint_classifier/keypoint_classifier.hdf5\n",
      "55/55 [==============================] - 0s 6ms/step - loss: 0.9050 - accuracy: 0.6795 - val_loss: 0.4980 - val_accuracy: 0.9028\n",
      "Epoch 204/1000\n",
      "45/55 [=======================>......] - ETA: 0s - loss: 0.8861 - accuracy: 0.6788\n",
      "Epoch 204: saving model to model/keypoint_classifier/keypoint_classifier.hdf5\n",
      "55/55 [==============================] - 0s 6ms/step - loss: 0.8890 - accuracy: 0.6767 - val_loss: 0.4786 - val_accuracy: 0.9136\n",
      "Epoch 205/1000\n",
      "49/55 [=========================>....] - ETA: 0s - loss: 0.9189 - accuracy: 0.6728\n",
      "Epoch 205: saving model to model/keypoint_classifier/keypoint_classifier.hdf5\n",
      "55/55 [==============================] - 0s 6ms/step - loss: 0.9214 - accuracy: 0.6687 - val_loss: 0.4982 - val_accuracy: 0.9028\n",
      "Epoch 206/1000\n",
      "45/55 [=======================>......] - ETA: 0s - loss: 0.8854 - accuracy: 0.6866\n",
      "Epoch 206: saving model to model/keypoint_classifier/keypoint_classifier.hdf5\n",
      "55/55 [==============================] - 0s 6ms/step - loss: 0.8889 - accuracy: 0.6839 - val_loss: 0.4865 - val_accuracy: 0.9114\n",
      "Epoch 207/1000\n",
      "47/55 [========================>.....] - ETA: 0s - loss: 0.9138 - accuracy: 0.6730\n",
      "Epoch 207: saving model to model/keypoint_classifier/keypoint_classifier.hdf5\n",
      "55/55 [==============================] - 0s 6ms/step - loss: 0.9151 - accuracy: 0.6719 - val_loss: 0.5043 - val_accuracy: 0.8980\n",
      "Epoch 208/1000\n",
      "49/55 [=========================>....] - ETA: 0s - loss: 0.9024 - accuracy: 0.6760\n",
      "Epoch 208: saving model to model/keypoint_classifier/keypoint_classifier.hdf5\n",
      "55/55 [==============================] - 0s 6ms/step - loss: 0.9009 - accuracy: 0.6769 - val_loss: 0.5011 - val_accuracy: 0.9010\n",
      "Epoch 209/1000\n",
      "49/55 [=========================>....] - ETA: 0s - loss: 0.8922 - accuracy: 0.6880\n",
      "Epoch 209: saving model to model/keypoint_classifier/keypoint_classifier.hdf5\n",
      "55/55 [==============================] - 0s 6ms/step - loss: 0.8924 - accuracy: 0.6863 - val_loss: 0.4850 - val_accuracy: 0.9075\n",
      "Epoch 210/1000\n",
      "46/55 [========================>.....] - ETA: 0s - loss: 0.9086 - accuracy: 0.6758\n",
      "Epoch 210: saving model to model/keypoint_classifier/keypoint_classifier.hdf5\n",
      "55/55 [==============================] - 0s 6ms/step - loss: 0.9104 - accuracy: 0.6722 - val_loss: 0.4852 - val_accuracy: 0.9097\n",
      "Epoch 211/1000\n",
      "45/55 [=======================>......] - ETA: 0s - loss: 0.8838 - accuracy: 0.6849\n",
      "Epoch 211: saving model to model/keypoint_classifier/keypoint_classifier.hdf5\n",
      "55/55 [==============================] - 0s 6ms/step - loss: 0.8872 - accuracy: 0.6857 - val_loss: 0.4926 - val_accuracy: 0.9002\n",
      "Epoch 212/1000\n",
      "49/55 [=========================>....] - ETA: 0s - loss: 0.8935 - accuracy: 0.6800\n",
      "Epoch 212: saving model to model/keypoint_classifier/keypoint_classifier.hdf5\n",
      "55/55 [==============================] - 0s 6ms/step - loss: 0.8949 - accuracy: 0.6803 - val_loss: 0.4927 - val_accuracy: 0.9080\n",
      "Epoch 213/1000\n",
      "47/55 [========================>.....] - ETA: 0s - loss: 0.8753 - accuracy: 0.6809\n",
      "Epoch 213: saving model to model/keypoint_classifier/keypoint_classifier.hdf5\n",
      "55/55 [==============================] - 0s 6ms/step - loss: 0.8723 - accuracy: 0.6794 - val_loss: 0.4872 - val_accuracy: 0.9032\n",
      "Epoch 214/1000\n",
      "47/55 [========================>.....] - ETA: 0s - loss: 0.8909 - accuracy: 0.6830\n",
      "Epoch 214: saving model to model/keypoint_classifier/keypoint_classifier.hdf5\n",
      "55/55 [==============================] - 0s 6ms/step - loss: 0.8886 - accuracy: 0.6830 - val_loss: 0.4724 - val_accuracy: 0.9127\n",
      "Epoch 215/1000\n",
      "48/55 [=========================>....] - ETA: 0s - loss: 0.8954 - accuracy: 0.6823\n",
      "Epoch 215: saving model to model/keypoint_classifier/keypoint_classifier.hdf5\n",
      "55/55 [==============================] - 0s 6ms/step - loss: 0.8961 - accuracy: 0.6808 - val_loss: 0.4998 - val_accuracy: 0.8941\n",
      "Epoch 216/1000\n",
      "48/55 [=========================>....] - ETA: 0s - loss: 0.8973 - accuracy: 0.6813\n",
      "Epoch 216: saving model to model/keypoint_classifier/keypoint_classifier.hdf5\n",
      "55/55 [==============================] - 0s 6ms/step - loss: 0.8979 - accuracy: 0.6790 - val_loss: 0.4801 - val_accuracy: 0.9067\n"
     ]
    },
    {
     "name": "stdout",
     "output_type": "stream",
     "text": [
      "Epoch 217/1000\n",
      "46/55 [========================>.....] - ETA: 0s - loss: 0.8991 - accuracy: 0.6785\n",
      "Epoch 217: saving model to model/keypoint_classifier/keypoint_classifier.hdf5\n",
      "55/55 [==============================] - 0s 6ms/step - loss: 0.9041 - accuracy: 0.6791 - val_loss: 0.4990 - val_accuracy: 0.9010\n",
      "Epoch 218/1000\n",
      "47/55 [========================>.....] - ETA: 0s - loss: 0.8936 - accuracy: 0.6858\n",
      "Epoch 218: saving model to model/keypoint_classifier/keypoint_classifier.hdf5\n",
      "55/55 [==============================] - 0s 6ms/step - loss: 0.8891 - accuracy: 0.6854 - val_loss: 0.4808 - val_accuracy: 0.9062\n",
      "Epoch 219/1000\n",
      "48/55 [=========================>....] - ETA: 0s - loss: 0.9023 - accuracy: 0.6771\n",
      "Epoch 219: saving model to model/keypoint_classifier/keypoint_classifier.hdf5\n",
      "55/55 [==============================] - 0s 6ms/step - loss: 0.8940 - accuracy: 0.6798 - val_loss: 0.4944 - val_accuracy: 0.9015\n",
      "Epoch 220/1000\n",
      "45/55 [=======================>......] - ETA: 0s - loss: 0.8823 - accuracy: 0.6868\n",
      "Epoch 220: saving model to model/keypoint_classifier/keypoint_classifier.hdf5\n",
      "55/55 [==============================] - 0s 6ms/step - loss: 0.8814 - accuracy: 0.6865 - val_loss: 0.4871 - val_accuracy: 0.9054\n",
      "Epoch 221/1000\n",
      "45/55 [=======================>......] - ETA: 0s - loss: 0.9068 - accuracy: 0.6720\n",
      "Epoch 221: saving model to model/keypoint_classifier/keypoint_classifier.hdf5\n",
      "55/55 [==============================] - 0s 6ms/step - loss: 0.9059 - accuracy: 0.6728 - val_loss: 0.4949 - val_accuracy: 0.8997\n",
      "Epoch 222/1000\n",
      "45/55 [=======================>......] - ETA: 0s - loss: 0.8924 - accuracy: 0.6809\n",
      "Epoch 222: saving model to model/keypoint_classifier/keypoint_classifier.hdf5\n",
      "55/55 [==============================] - 0s 6ms/step - loss: 0.8971 - accuracy: 0.6790 - val_loss: 0.4825 - val_accuracy: 0.9114\n",
      "Epoch 223/1000\n",
      "46/55 [========================>.....] - ETA: 0s - loss: 0.8974 - accuracy: 0.6787\n",
      "Epoch 223: saving model to model/keypoint_classifier/keypoint_classifier.hdf5\n",
      "55/55 [==============================] - 0s 6ms/step - loss: 0.8933 - accuracy: 0.6807 - val_loss: 0.4741 - val_accuracy: 0.9062\n",
      "Epoch 224/1000\n",
      "45/55 [=======================>......] - ETA: 0s - loss: 0.8989 - accuracy: 0.6837\n",
      "Epoch 224: saving model to model/keypoint_classifier/keypoint_classifier.hdf5\n",
      "55/55 [==============================] - 0s 6ms/step - loss: 0.8972 - accuracy: 0.6804 - val_loss: 0.4922 - val_accuracy: 0.9054\n",
      "Epoch 225/1000\n",
      "49/55 [=========================>....] - ETA: 0s - loss: 0.8893 - accuracy: 0.6849\n",
      "Epoch 225: saving model to model/keypoint_classifier/keypoint_classifier.hdf5\n",
      "55/55 [==============================] - 0s 6ms/step - loss: 0.8871 - accuracy: 0.6859 - val_loss: 0.4746 - val_accuracy: 0.9105\n",
      "Epoch 226/1000\n",
      "48/55 [=========================>....] - ETA: 0s - loss: 0.8897 - accuracy: 0.6829\n",
      "Epoch 226: saving model to model/keypoint_classifier/keypoint_classifier.hdf5\n",
      "55/55 [==============================] - 0s 6ms/step - loss: 0.8852 - accuracy: 0.6862 - val_loss: 0.4853 - val_accuracy: 0.9062\n",
      "Epoch 227/1000\n",
      "47/55 [========================>.....] - ETA: 0s - loss: 0.8821 - accuracy: 0.6966\n",
      "Epoch 227: saving model to model/keypoint_classifier/keypoint_classifier.hdf5\n",
      "55/55 [==============================] - 0s 6ms/step - loss: 0.8761 - accuracy: 0.6977 - val_loss: 0.4825 - val_accuracy: 0.9049\n",
      "Epoch 228/1000\n",
      "46/55 [========================>.....] - ETA: 0s - loss: 0.8785 - accuracy: 0.6912\n",
      "Epoch 228: saving model to model/keypoint_classifier/keypoint_classifier.hdf5\n",
      "55/55 [==============================] - 0s 6ms/step - loss: 0.8836 - accuracy: 0.6876 - val_loss: 0.4820 - val_accuracy: 0.9105\n",
      "Epoch 229/1000\n",
      "45/55 [=======================>......] - ETA: 0s - loss: 0.8882 - accuracy: 0.6903\n",
      "Epoch 229: saving model to model/keypoint_classifier/keypoint_classifier.hdf5\n",
      "55/55 [==============================] - 0s 6ms/step - loss: 0.8883 - accuracy: 0.6863 - val_loss: 0.4827 - val_accuracy: 0.9010\n",
      "Epoch 230/1000\n",
      "48/55 [=========================>....] - ETA: 0s - loss: 0.8979 - accuracy: 0.6748\n",
      "Epoch 230: saving model to model/keypoint_classifier/keypoint_classifier.hdf5\n",
      "55/55 [==============================] - 0s 6ms/step - loss: 0.8945 - accuracy: 0.6769 - val_loss: 0.4829 - val_accuracy: 0.9006\n",
      "Epoch 231/1000\n",
      "49/55 [=========================>....] - ETA: 0s - loss: 0.9016 - accuracy: 0.6789\n",
      "Epoch 231: saving model to model/keypoint_classifier/keypoint_classifier.hdf5\n",
      "55/55 [==============================] - 0s 6ms/step - loss: 0.9041 - accuracy: 0.6774 - val_loss: 0.4869 - val_accuracy: 0.9105\n",
      "Epoch 232/1000\n",
      "49/55 [=========================>....] - ETA: 0s - loss: 0.8987 - accuracy: 0.6792\n",
      "Epoch 232: saving model to model/keypoint_classifier/keypoint_classifier.hdf5\n",
      "55/55 [==============================] - 0s 6ms/step - loss: 0.8967 - accuracy: 0.6797 - val_loss: 0.4763 - val_accuracy: 0.9080\n",
      "Epoch 233/1000\n",
      "49/55 [=========================>....] - ETA: 0s - loss: 0.8846 - accuracy: 0.6806\n",
      "Epoch 233: saving model to model/keypoint_classifier/keypoint_classifier.hdf5\n",
      "55/55 [==============================] - 0s 6ms/step - loss: 0.8831 - accuracy: 0.6787 - val_loss: 0.4799 - val_accuracy: 0.9136\n",
      "Epoch 234/1000\n",
      "45/55 [=======================>......] - ETA: 0s - loss: 0.8876 - accuracy: 0.6797\n",
      "Epoch 234: saving model to model/keypoint_classifier/keypoint_classifier.hdf5\n",
      "55/55 [==============================] - 0s 6ms/step - loss: 0.8930 - accuracy: 0.6782 - val_loss: 0.4845 - val_accuracy: 0.9088\n",
      "Epoch 235/1000\n",
      "48/55 [=========================>....] - ETA: 0s - loss: 0.8891 - accuracy: 0.6782\n",
      "Epoch 235: saving model to model/keypoint_classifier/keypoint_classifier.hdf5\n",
      "55/55 [==============================] - 0s 6ms/step - loss: 0.8911 - accuracy: 0.6781 - val_loss: 0.4713 - val_accuracy: 0.9071\n",
      "Epoch 236/1000\n",
      "49/55 [=========================>....] - ETA: 0s - loss: 0.8878 - accuracy: 0.6787\n",
      "Epoch 236: saving model to model/keypoint_classifier/keypoint_classifier.hdf5\n",
      "55/55 [==============================] - 0s 6ms/step - loss: 0.8843 - accuracy: 0.6795 - val_loss: 0.4826 - val_accuracy: 0.9114\n",
      "Epoch 237/1000\n",
      "45/55 [=======================>......] - ETA: 0s - loss: 0.8907 - accuracy: 0.6748\n",
      "Epoch 237: saving model to model/keypoint_classifier/keypoint_classifier.hdf5\n",
      "55/55 [==============================] - 0s 6ms/step - loss: 0.8818 - accuracy: 0.6778 - val_loss: 0.4872 - val_accuracy: 0.9114\n",
      "Epoch 238/1000\n",
      "47/55 [========================>.....] - ETA: 0s - loss: 0.8761 - accuracy: 0.6837\n",
      "Epoch 238: saving model to model/keypoint_classifier/keypoint_classifier.hdf5\n",
      "55/55 [==============================] - 0s 6ms/step - loss: 0.8677 - accuracy: 0.6889 - val_loss: 0.4723 - val_accuracy: 0.9162\n",
      "Epoch 238: early stopping\n"
     ]
    },
    {
     "data": {
      "text/plain": [
       "<keras.callbacks.History at 0x16b7337c0>"
      ]
     },
     "execution_count": 11,
     "metadata": {},
     "output_type": "execute_result"
    }
   ],
   "source": [
    "model.fit(\n",
    "    X_train,\n",
    "    y_train,\n",
    "    epochs=1000,\n",
    "    batch_size=128,\n",
    "    validation_data=(X_test, y_test),\n",
    "    callbacks=[cp_callback, es_callback]\n",
    ")"
   ]
  },
  {
   "cell_type": "code",
   "execution_count": 12,
   "metadata": {
    "colab": {
     "base_uri": "https://localhost:8080/"
    },
    "id": "pxvb2Y299hE3",
    "outputId": "59eb3185-2e37-4b9e-bc9d-ab1b8ac29b7f"
   },
   "outputs": [
    {
     "name": "stdout",
     "output_type": "stream",
     "text": [
      "19/19 [==============================] - 0s 4ms/step - loss: 0.4723 - accuracy: 0.9162\n"
     ]
    }
   ],
   "source": [
    "# Model evaluation\n",
    "val_loss, val_acc = model.evaluate(X_test, y_test, batch_size=128)"
   ]
  },
  {
   "cell_type": "code",
   "execution_count": 13,
   "metadata": {
    "id": "RBkmDeUW9hE4"
   },
   "outputs": [],
   "source": [
    "# Loading the saved model\n",
    "model = tf.keras.models.load_model(model_save_path)"
   ]
  },
  {
   "cell_type": "code",
   "execution_count": 14,
   "metadata": {
    "colab": {
     "base_uri": "https://localhost:8080/"
    },
    "id": "tFz9Tb0I9hE4",
    "outputId": "1c3b3528-54ae-4ee2-ab04-77429211cbef"
   },
   "outputs": [
    {
     "name": "stdout",
     "output_type": "stream",
     "text": [
      "1/1 [==============================] - 0s 49ms/step\n",
      "[3.0915800e-01 2.0236298e-03 2.4595083e-04 9.8144425e-05 3.6246676e-03\n",
      " 3.2781709e-02 6.3355708e-01 1.9884317e-03 9.7453324e-03 2.7024671e-03\n",
      " 3.8386702e-03 7.1688197e-07 1.5827314e-09 2.3519398e-04 1.5541726e-11]\n",
      "6\n"
     ]
    }
   ],
   "source": [
    "# Inference test\n",
    "predict_result = model.predict(np.array([X_test[0]]))\n",
    "print(np.squeeze(predict_result))\n",
    "print(np.argmax(np.squeeze(predict_result)))"
   ]
  },
  {
   "cell_type": "markdown",
   "metadata": {
    "id": "S3U4yNWx9hE4"
   },
   "source": [
    "# Confusion matrix"
   ]
  },
  {
   "cell_type": "code",
   "execution_count": 15,
   "metadata": {
    "colab": {
     "base_uri": "https://localhost:8080/",
     "height": 582
    },
    "id": "AP1V6SCk9hE5",
    "outputId": "08e41a80-7a4a-4619-8125-ecc371368d19"
   },
   "outputs": [
    {
     "name": "stdout",
     "output_type": "stream",
     "text": [
      "73/73 [==============================] - 0s 1ms/step\n"
     ]
    },
    {
     "data": {
      "image/png": "[encoded data removed]",
      "text/plain": [
       "<Figure size 700x600 with 2 Axes>"
      ]
     },
     "metadata": {},
     "output_type": "display_data"
    },
    {
     "name": "stdout",
     "output_type": "stream",
     "text": [
      "Classification Report\n",
      "              precision    recall  f1-score   support\n",
      "\n",
      "           0       0.96      0.95      0.96       460\n",
      "           1       0.99      0.83      0.90       394\n",
      "           2       0.81      0.95      0.88       332\n",
      "           3       0.93      0.99      0.96       140\n",
      "           4       0.88      0.87      0.87       165\n",
      "           5       1.00      0.71      0.83        86\n",
      "           6       0.85      0.99      0.91       173\n",
      "           7       0.85      1.00      0.92        97\n",
      "           8       0.99      0.86      0.92        92\n",
      "           9       1.00      0.89      0.94       114\n",
      "          10       0.96      0.89      0.92        90\n",
      "          11       0.79      1.00      0.88        64\n",
      "          12       0.93      1.00      0.96        37\n",
      "          13       1.00      1.00      1.00        70\n",
      "\n",
      "    accuracy                           0.92      2314\n",
      "   macro avg       0.92      0.92      0.92      2314\n",
      "weighted avg       0.92      0.92      0.92      2314\n",
      "\n"
     ]
    }
   ],
   "source": [
    "import pandas as pd\n",
    "import seaborn as sns\n",
    "import matplotlib.pyplot as plt\n",
    "from sklearn.metrics import confusion_matrix, classification_report\n",
    "\n",
    "def print_confusion_matrix(y_true, y_pred, report=True):\n",
    "    labels = sorted(list(set(y_true)))\n",
    "    cmx_data = confusion_matrix(y_true, y_pred, labels=labels)\n",
    "    \n",
    "    df_cmx = pd.DataFrame(cmx_data, index=labels, columns=labels)\n",
    " \n",
    "    fig, ax = plt.subplots(figsize=(7, 6))\n",
    "    sns.heatmap(df_cmx, annot=True, fmt='g' ,square=False)\n",
    "    ax.set_ylim(len(set(y_true)), 0)\n",
    "    plt.show()\n",
    "    \n",
    "    if report:\n",
    "        print('Classification Report')\n",
    "        print(classification_report(y_test, y_pred))\n",
    "\n",
    "Y_pred = model.predict(X_test)\n",
    "y_pred = np.argmax(Y_pred, axis=1)\n",
    "\n",
    "print_confusion_matrix(y_test, y_pred)"
   ]
  },
  {
   "cell_type": "markdown",
   "metadata": {
    "id": "FNP6aqzc9hE5"
   },
   "source": [
    "# Convert to model for Tensorflow-Lite"
   ]
  },
  {
   "cell_type": "code",
   "execution_count": 16,
   "metadata": {
    "id": "ODjnYyld9hE6"
   },
   "outputs": [],
   "source": [
    "# Save as a model dedicated to inference\n",
    "model.save(model_save_path, include_optimizer=False)"
   ]
  },
  {
   "cell_type": "code",
   "execution_count": 17,
   "metadata": {
    "colab": {
     "base_uri": "https://localhost:8080/"
    },
    "id": "zRfuK8Y59hE6",
    "outputId": "a4ca585c-b5d5-4244-8291-8674063209bb"
   },
   "outputs": [
    {
     "name": "stdout",
     "output_type": "stream",
     "text": [
      "INFO:tensorflow:Assets written to: /var/folders/dc/8_glt6jn2csfcxfrzfwszq_r0000gn/T/tmps1xl0xd2/assets\n"
     ]
    },
    {
     "name": "stderr",
     "output_type": "stream",
     "text": [
      "2023-05-12 12:22:32.462746: W tensorflow/compiler/mlir/lite/python/tf_tfl_flatbuffer_helpers.cc:364] Ignored output_format.\n",
      "2023-05-12 12:22:32.462761: W tensorflow/compiler/mlir/lite/python/tf_tfl_flatbuffer_helpers.cc:367] Ignored drop_control_dependency.\n"
     ]
    },
    {
     "data": {
      "text/plain": [
       "7028"
      ]
     },
     "execution_count": 17,
     "metadata": {},
     "output_type": "execute_result"
    }
   ],
   "source": [
    "# Transform model (quantization)\n",
    "\n",
    "converter = tf.lite.TFLiteConverter.from_keras_model(model)\n",
    "converter.optimizations = [tf.lite.Optimize.DEFAULT]\n",
    "tflite_quantized_model = converter.convert()\n",
    "\n",
    "open(tflite_save_path, 'wb').write(tflite_quantized_model)"
   ]
  },
  {
   "cell_type": "markdown",
   "metadata": {
    "id": "CHBPBXdx9hE6"
   },
   "source": [
    "# Inference test"
   ]
  },
  {
   "cell_type": "code",
   "execution_count": 18,
   "metadata": {
    "id": "mGAzLocO9hE7"
   },
   "outputs": [
    {
     "name": "stderr",
     "output_type": "stream",
     "text": [
      "INFO: Created TensorFlow Lite XNNPACK delegate for CPU.\n"
     ]
    }
   ],
   "source": [
    "interpreter = tf.lite.Interpreter(model_path=tflite_save_path)\n",
    "interpreter.allocate_tensors()"
   ]
  },
  {
   "cell_type": "code",
   "execution_count": 19,
   "metadata": {
    "id": "oQuDK8YS9hE7"
   },
   "outputs": [],
   "source": [
    "# Get I / O tensor\n",
    "input_details = interpreter.get_input_details()\n",
    "output_details = interpreter.get_output_details()"
   ]
  },
  {
   "cell_type": "code",
   "execution_count": 20,
   "metadata": {
    "id": "2_ixAf_l9hE7"
   },
   "outputs": [],
   "source": [
    "interpreter.set_tensor(input_details[0]['index'], np.array([X_test[0]]))"
   ]
  },
  {
   "cell_type": "code",
   "execution_count": 21,
   "metadata": {
    "colab": {
     "base_uri": "https://localhost:8080/"
    },
    "id": "s4FoAnuc9hE7",
    "outputId": "91f18257-8d8b-4ef3-c558-e9b5f94fabbf",
    "scrolled": true
   },
   "outputs": [
    {
     "name": "stdout",
     "output_type": "stream",
     "text": [
      "CPU times: user 89 µs, sys: 95 µs, total: 184 µs\n",
      "Wall time: 122 µs\n"
     ]
    }
   ],
   "source": [
    "%%time\n",
    "# Inference implementation\n",
    "interpreter.invoke()\n",
    "tflite_results = interpreter.get_tensor(output_details[0]['index'])"
   ]
  },
  {
   "cell_type": "code",
   "execution_count": 22,
   "metadata": {
    "colab": {
     "base_uri": "https://localhost:8080/"
    },
    "id": "vONjp19J9hE8",
    "outputId": "77205e24-fd00-42c4-f7b6-e06e527c2cba"
   },
   "outputs": [
    {
     "name": "stdout",
     "output_type": "stream",
     "text": [
      "[3.0915791e-01 2.0236303e-03 2.4595071e-04 9.8144454e-05 3.6246662e-03\n",
      " 3.2781705e-02 6.3355714e-01 1.9884331e-03 9.7453445e-03 2.7024718e-03\n",
      " 3.8386709e-03 7.1688243e-07 1.5827254e-09 2.3519408e-04 1.5541729e-11]\n",
      "6\n"
     ]
    }
   ],
   "source": [
    "print(np.squeeze(tflite_results))\n",
    "print(np.argmax(np.squeeze(tflite_results)))"
   ]
  }
 ],
 "metadata": {
  "accelerator": "GPU",
  "colab": {
   "collapsed_sections": [],
   "name": "keypoint_classification_EN.ipynb",
   "provenance": [],
   "toc_visible": true
  },
  "kernelspec": {
   "display_name": "Python 3 (ipykernel)",
   "language": "python",
   "name": "python3"
  },
  "language_info": {
   "codemirror_mode": {
    "name": "ipython",
    "version": 3
   },
   "file_extension": ".py",
   "mimetype": "text/x-python",
   "name": "python",
   "nbconvert_exporter": "python",
   "pygments_lexer": "ipython3",
   "version": "3.9.13"
  }
 },
 "nbformat": 4,
 "nbformat_minor": 1
}
